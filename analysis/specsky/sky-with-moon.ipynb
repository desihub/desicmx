{
 "cells": [
  {
   "cell_type": "markdown",
   "metadata": {},
   "source": [
    "# Sky with the Moon Up\n",
    "\n",
    "* https://desi.lbl.gov/trac/wiki/CommissioningCommissioningPlanning/commishdata#NightSky\n",
    "* https://portal.nersc.gov/project/desi/collab/nightwatch/kpno/20191112/exposures.html\n",
    "* http://desi-www.kpno.noao.edu:8090/nightsum/nightsum-2019-11-12/nightsum.html\n",
    "\n",
    "**Data**  \n",
    "* /global/projecta/projectdirs/desi/spectro/redux/daily/exposures/20191112  \n",
    "* /global/projecta/projectdirs/desi/spectro/redux/daily/exposures/20191112\n",
    "* Exposures 27337-27396\n",
    "\n",
    "**Data Model**  \n",
    "* https://desidatamodel.readthedocs.io/en/latest/DESI_SPECTRO_REDUX/SPECPROD/exposures/NIGHT/EXPID/sky-CAMERA-EXPID.html\n",
    "\n",
    "John Moustakas"
   ]
  },
  {
   "cell_type": "code",
   "execution_count": 1,
   "metadata": {},
   "outputs": [],
   "source": [
    "import os\n",
    "import numpy as np\n",
    "import fitsio"
   ]
  },
  {
   "cell_type": "code",
   "execution_count": 2,
   "metadata": {},
   "outputs": [],
   "source": [
    "import astropy.units as u\n",
    "from astropy.table import Table, vstack\n",
    "from astropy.coordinates import SkyCoord\n",
    "from astropy.io import fits"
   ]
  },
  {
   "cell_type": "code",
   "execution_count": 3,
   "metadata": {},
   "outputs": [],
   "source": [
    "import desispec.io\n",
    "import desimodel.io"
   ]
  },
  {
   "cell_type": "code",
   "execution_count": 4,
   "metadata": {},
   "outputs": [],
   "source": [
    "import speclite\n",
    "rfilt = speclite.filters.load_filters('decam2014-r')"
   ]
  },
  {
   "cell_type": "code",
   "execution_count": 5,
   "metadata": {},
   "outputs": [],
   "source": [
    "import matplotlib.pyplot as plt\n",
    "import seaborn as sns"
   ]
  },
  {
   "cell_type": "code",
   "execution_count": 6,
   "metadata": {},
   "outputs": [],
   "source": [
    "sns.set(context='talk', style='ticks', font_scale=1.1)\n",
    "%matplotlib inline"
   ]
  },
  {
   "cell_type": "code",
   "execution_count": 7,
   "metadata": {},
   "outputs": [],
   "source": [
    "topdir = os.getenv('DESI_ROOT')+'/spectro'\n",
    "gfadir = '/project/projectdirs/desi/users/ameisner/GFA/reduced/v0001'"
   ]
  },
  {
   "cell_type": "markdown",
   "metadata": {},
   "source": [
    "#### Specify the night and range of GFA and spectrograph exposure IDs."
   ]
  },
  {
   "cell_type": "code",
   "execution_count": 8,
   "metadata": {},
   "outputs": [],
   "source": [
    "night = 20191112\n",
    "expid_start, expid_end = 27337, 27396\n",
    "expids = np.arange(expid_end - expid_start + 1) + expid_start"
   ]
  },
  {
   "cell_type": "markdown",
   "metadata": {},
   "source": [
    "#### Read A. Meisner's reductions to get the sky background in the GFAs vs moon separation."
   ]
  },
  {
   "cell_type": "code",
   "execution_count": 9,
   "metadata": {},
   "outputs": [],
   "source": [
    "def read_gfa(night, expid, raw=False):\n",
    "    sexpid = '{:08d}'.format(expid)\n",
    "    rawfname = topdir+'/data/{0}/{1}/gfa-{1}.fits.fz'.format(night, sexpid)\n",
    "    fname = gfadir+'/{0}/{1}/gfa-{1}_ccds.fits'.format(night, sexpid)    \n",
    "    if os.path.isfile(fname):\n",
    "        # get the target-moon separation\n",
    "        hdr = fitsio.read_header(rawfname, ext=1)\n",
    "        #print(hdr)\n",
    "        \n",
    "        ra, dec, moonra, moondec = hdr['SKYRA'], hdr['SKYDEC'], hdr['MOONRA'], hdr['MOONDEC']\n",
    "        csky = SkyCoord(ra=ra*u.degree, dec=dec*u.degree, frame='icrs')\n",
    "        cmoon = SkyCoord(ra=moonra*u.degree, dec=moondec*u.degree, frame='icrs')\n",
    "        moonsep = np.array(csky.separation(cmoon).value).astype('f4') # [degree]\n",
    "\n",
    "        #print('Reading {}'.format(fname))\n",
    "        data = Table.read(fname)\n",
    "        #print(data.colnames)\n",
    "        \n",
    "        # pack into a table\n",
    "        out = Table()\n",
    "        out['sky_mag_ab'] = [np.mean(data['sky_mag_ab'])]\n",
    "        out['sky_mag_ab_err'] = [np.std(data['sky_mag_ab']) / np.sqrt(len(data))]\n",
    "        out['moonsep'] = [moonsep]\n",
    "        out['airmass'] = [hdr['AIRMASS']]\n",
    "        return out\n",
    "    else:\n",
    "        return None"
   ]
  },
  {
   "cell_type": "code",
   "execution_count": 10,
   "metadata": {},
   "outputs": [],
   "source": [
    "def gfa_sky(night):\n",
    "    out = []\n",
    "    for expid in expids:\n",
    "        dd = read_gfa(night, expid)\n",
    "        if dd is not None:\n",
    "            out.append(dd)\n",
    "    return vstack(out)"
   ]
  },
  {
   "cell_type": "code",
   "execution_count": 11,
   "metadata": {},
   "outputs": [],
   "source": [
    "#data = read_gfa(night, 27337)\n",
    "#data"
   ]
  },
  {
   "cell_type": "code",
   "execution_count": 12,
   "metadata": {},
   "outputs": [
    {
     "data": {
      "text/html": [
       "&lt;Table length=50&gt;\n",
       "<table id=\"table46913202219608\" class=\"table-striped table-bordered table-condensed\">\n",
       "<thead><tr><th>sky_mag_ab</th><th>sky_mag_ab_err</th><th>moonsep</th><th>airmass</th></tr></thead>\n",
       "<thead><tr><th>float64</th><th>float64</th><th>float32</th><th>float64</th></tr></thead>\n",
       "<tr><td>14.749320711915209</td><td>0.059598433549924446</td><td>10.993231</td><td>1.14189</td></tr>\n",
       "<tr><td>14.750914327694213</td><td>0.06008108582271851</td><td>10.99818</td><td>1.138029</td></tr>\n",
       "<tr><td>14.75067592611739</td><td>0.06033143344319213</td><td>11.000665</td><td>1.135532</td></tr>\n",
       "<tr><td>14.750598611223268</td><td>0.060667852081627185</td><td>11.003156</td><td>1.133065</td></tr>\n",
       "<tr><td>14.750583401196975</td><td>0.06106180752520087</td><td>11.005651</td><td>1.130409</td></tr>\n",
       "<tr><td>14.962776953461022</td><td>0.059492423629957276</td><td>14.5302105</td><td>1.081853</td></tr>\n",
       "<tr><td>14.96206024700866</td><td>0.05970604303849887</td><td>14.535055</td><td>1.080074</td></tr>\n",
       "<tr><td>14.961648766262476</td><td>0.06003596890603652</td><td>14.539873</td><td>1.078306</td></tr>\n",
       "<tr><td>14.960030458927479</td><td>0.060430968753942986</td><td>14.5447</td><td>1.076472</td></tr>\n",
       "<tr><td>14.9592775180667</td><td>0.060694124123343636</td><td>14.549536</td><td>1.074754</td></tr>\n",
       "<tr><td>...</td><td>...</td><td>...</td><td>...</td></tr>\n",
       "<tr><td>16.557834021398957</td><td>0.028071821442187887</td><td>29.829021</td><td>1.009359</td></tr>\n",
       "<tr><td>16.548016782086844</td><td>0.02645242302816228</td><td>29.835943</td><td>1.009725</td></tr>\n",
       "<tr><td>16.539785733331104</td><td>0.026368144154494396</td><td>29.842844</td><td>1.010082</td></tr>\n",
       "<tr><td>16.53465870785564</td><td>0.02613207897950653</td><td>29.856611</td><td>1.010459</td></tr>\n",
       "<tr><td>16.52938533669119</td><td>0.025845730425406607</td><td>29.86351</td><td>1.010855</td></tr>\n",
       "<tr><td>14.777582262986925</td><td>0.06489103964606927</td><td>11.159082</td><td>1.039759</td></tr>\n",
       "<tr><td>14.773815762628445</td><td>0.06433345858785282</td><td>11.162033</td><td>1.038633</td></tr>\n",
       "<tr><td>14.77293275698621</td><td>0.06429129598126242</td><td>11.164947</td><td>1.037518</td></tr>\n",
       "<tr><td>14.772319393530845</td><td>0.06438902797858212</td><td>11.167852</td><td>1.036433</td></tr>\n",
       "<tr><td>14.773154516175538</td><td>0.06441309720876642</td><td>11.170779</td><td>1.035362</td></tr>\n",
       "</table>"
      ],
      "text/plain": [
       "<Table length=50>\n",
       "    sky_mag_ab        sky_mag_ab_err     moonsep   airmass \n",
       "     float64             float64         float32   float64 \n",
       "------------------ -------------------- ---------- --------\n",
       "14.749320711915209 0.059598433549924446  10.993231  1.14189\n",
       "14.750914327694213  0.06008108582271851   10.99818 1.138029\n",
       " 14.75067592611739  0.06033143344319213  11.000665 1.135532\n",
       "14.750598611223268 0.060667852081627185  11.003156 1.133065\n",
       "14.750583401196975  0.06106180752520087  11.005651 1.130409\n",
       "14.962776953461022 0.059492423629957276 14.5302105 1.081853\n",
       " 14.96206024700866  0.05970604303849887  14.535055 1.080074\n",
       "14.961648766262476  0.06003596890603652  14.539873 1.078306\n",
       "14.960030458927479 0.060430968753942986    14.5447 1.076472\n",
       "  14.9592775180667 0.060694124123343636  14.549536 1.074754\n",
       "               ...                  ...        ...      ...\n",
       "16.557834021398957 0.028071821442187887  29.829021 1.009359\n",
       "16.548016782086844  0.02645242302816228  29.835943 1.009725\n",
       "16.539785733331104 0.026368144154494396  29.842844 1.010082\n",
       " 16.53465870785564  0.02613207897950653  29.856611 1.010459\n",
       " 16.52938533669119 0.025845730425406607   29.86351 1.010855\n",
       "14.777582262986925  0.06489103964606927  11.159082 1.039759\n",
       "14.773815762628445  0.06433345858785282  11.162033 1.038633\n",
       " 14.77293275698621  0.06429129598126242  11.164947 1.037518\n",
       "14.772319393530845  0.06438902797858212  11.167852 1.036433\n",
       "14.773154516175538  0.06441309720876642  11.170779 1.035362"
      ]
     },
     "execution_count": 12,
     "metadata": {},
     "output_type": "execute_result"
    }
   ],
   "source": [
    "gfa = gfa_sky(night)\n",
    "gfa"
   ]
  },
  {
   "cell_type": "code",
   "execution_count": 13,
   "metadata": {},
   "outputs": [
    {
     "data": {
      "text/html": [
       "&lt;Table length=13&gt;\n",
       "<table id=\"table46913427842832\" class=\"table-striped table-bordered table-condensed\">\n",
       "<thead><tr><th>sky_mag_ab</th><th>sky_mag_ab_err</th><th>moonsep</th><th>airmass</th></tr></thead>\n",
       "<thead><tr><th>float64</th><th>float64</th><th>float32</th><th>float64</th></tr></thead>\n",
       "<tr><td>14.947014629741645</td><td>0.12357760810831168</td><td>19.881807</td><td>1.036005</td></tr>\n",
       "<tr><td>14.947415415326807</td><td>0.12403613334625924</td><td>19.887901</td><td>1.034853</td></tr>\n",
       "<tr><td>14.94690665926297</td><td>0.1242999830011797</td><td>19.894001</td><td>1.033811</td></tr>\n",
       "<tr><td>15.07982183745264</td><td>0.13508716377411545</td><td>24.571959</td><td>1.016123</td></tr>\n",
       "<tr><td>15.189484859879856</td><td>0.16334708072351672</td><td>24.578554</td><td>1.015535</td></tr>\n",
       "<tr><td>15.226155168976923</td><td>0.1737412020378606</td><td>24.585136</td><td>1.014965</td></tr>\n",
       "<tr><td>15.222328612201466</td><td>0.1730211368518501</td><td>24.591717</td><td>1.014365</td></tr>\n",
       "<tr><td>15.218214430301515</td><td>0.17242540475719506</td><td>24.59831</td><td>1.013835</td></tr>\n",
       "<tr><td>16.433207923659257</td><td>0.018893493440196422</td><td>29.64331</td><td>1.006739</td></tr>\n",
       "<tr><td>16.47315091718006</td><td>0.02423982929490936</td><td>29.650188</td><td>1.006636</td></tr>\n",
       "<tr><td>16.47234038524256</td><td>0.02395219710821</td><td>29.663898</td><td>1.006545</td></tr>\n",
       "<tr><td>16.471926115381425</td><td>0.023475629093756244</td><td>29.67077</td><td>1.006478</td></tr>\n",
       "<tr><td>16.47039451868953</td><td>0.022588234502863985</td><td>29.677647</td><td>1.00643</td></tr>\n",
       "</table>"
      ],
      "text/plain": [
       "<Table length=13>\n",
       "    sky_mag_ab        sky_mag_ab_err     moonsep  airmass \n",
       "     float64             float64         float32  float64 \n",
       "------------------ -------------------- --------- --------\n",
       "14.947014629741645  0.12357760810831168 19.881807 1.036005\n",
       "14.947415415326807  0.12403613334625924 19.887901 1.034853\n",
       " 14.94690665926297   0.1242999830011797 19.894001 1.033811\n",
       " 15.07982183745264  0.13508716377411545 24.571959 1.016123\n",
       "15.189484859879856  0.16334708072351672 24.578554 1.015535\n",
       "15.226155168976923   0.1737412020378606 24.585136 1.014965\n",
       "15.222328612201466   0.1730211368518501 24.591717 1.014365\n",
       "15.218214430301515  0.17242540475719506  24.59831 1.013835\n",
       "16.433207923659257 0.018893493440196422  29.64331 1.006739\n",
       " 16.47315091718006  0.02423982929490936 29.650188 1.006636\n",
       " 16.47234038524256     0.02395219710821 29.663898 1.006545\n",
       "16.471926115381425 0.023475629093756244  29.67077 1.006478\n",
       " 16.47039451868953 0.022588234502863985 29.677647  1.00643"
      ]
     },
     "execution_count": 13,
     "metadata": {},
     "output_type": "execute_result"
    }
   ],
   "source": [
    "gfa[12:25]"
   ]
  },
  {
   "cell_type": "code",
   "execution_count": 14,
   "metadata": {},
   "outputs": [
    {
     "data": {
      "text/plain": [
       "Text(0,0.5,'Sky Brightness (AB mag)')"
      ]
     },
     "execution_count": 14,
     "metadata": {},
     "output_type": "execute_result"
    },
    {
     "data": {
      "image/png": "[encoded data removed]",
      "text/plain": [
       "<matplotlib.figure.Figure at 0x2aaae2352f60>"
      ]
     },
     "metadata": {
      "needs_background": "light"
     },
     "output_type": "display_data"
    }
   ],
   "source": [
    "fig, ax = plt.subplots(figsize=(8, 6))\n",
    "ax.scatter(gfa['moonsep'], gfa['sky_mag_ab'])\n",
    "#ax.invert_yaxis()\n",
    "ax.set_ylim(17.5, 14.5)\n",
    "ax.set_xlabel('Target-Moon Separation (degree)')\n",
    "ax.set_ylabel('Sky Brightness (AB mag)')"
   ]
  },
  {
   "cell_type": "markdown",
   "metadata": {},
   "source": [
    "#### Read the spectroscopic reductions to get the sky spectra vs moon separation."
   ]
  },
  {
   "cell_type": "code",
   "execution_count": 15,
   "metadata": {},
   "outputs": [],
   "source": [
    "def read_spec(night, expid):\n",
    "    sexpid = '{:08d}'.format(expid)\n",
    "    datadir = topdir+'/redux/daily/exposures/{}/{}/'.format(night, sexpid)\n",
    "    if os.path.isdir(datadir):\n",
    "        #fr = desispec.io.read_frame('{}/frame-r3-{}.fits'.format(datadir, sexpid))\n",
    "        sp = desispec.io.read_frame('{}/sframe-r3-{}.fits'.format(datadir, sexpid))\n",
    "        sky = desispec.io.read_sky('{}/sky-r3-{}.fits'.format(datadir, sexpid))\n",
    "        return sp, sky\n",
    "        #return fr, sp, sky\n",
    "    else:\n",
    "        return None, None    "
   ]
  },
  {
   "cell_type": "code",
   "execution_count": 16,
   "metadata": {},
   "outputs": [],
   "source": [
    "#sp, sky = read_spec(night, 27339)"
   ]
  },
  {
   "cell_type": "code",
   "execution_count": 17,
   "metadata": {},
   "outputs": [],
   "source": [
    "def spec_sky():\n",
    "    moonsep, meansky, stdsky = [], [], []\n",
    "    for expid in expids:\n",
    "        sp, sky = read_spec(night, expid)\n",
    "        if sky is not None:\n",
    "            # hack for getting the object-moon separation!!\n",
    "            moonsep.append(sky.header['PROGRAM'][:3])\n",
    "            \n",
    "            # convolve the spectrum with the r-band filter curve\n",
    "            keep = sp.fibermap['OBJTYPE'] == 'SKY'\n",
    "            padflux, padwave = rfilt.pad_spectrum(sky.flux[keep, :], sky.wave, method='edge')\n",
    "            abmags = rfilt.get_ab_magnitudes(padflux, padwave)['decam2014-r']\n",
    "            \n",
    "            meansky.append(np.mean(abmags))\n",
    "            stdsky.append(np.std(abmags) / np.sqrt(len(abmags)))\n",
    "            \n",
    "            #meansky.append( np.mean(np.median(sky.flux[keep, :], axis=1)) )\n",
    "            #stdsky.append( np.std(np.median(sky.flux[keep, :], axis=1)) )\n",
    "            \n",
    "    out = Table()\n",
    "    out['moonsep'] = np.hstack(moonsep).astype('f4')\n",
    "    out['meansky'] = np.hstack(meansky).astype('f4')\n",
    "    out['stdsky'] = np.hstack(stdsky).astype('f4')\n",
    "    \n",
    "    return out"
   ]
  },
  {
   "cell_type": "code",
   "execution_count": 18,
   "metadata": {},
   "outputs": [
    {
     "data": {
      "text/html": [
       "&lt;Table length=10&gt;\n",
       "<table id=\"table46913428573432\" class=\"table-striped table-bordered table-condensed\">\n",
       "<thead><tr><th>moonsep</th><th>meansky</th><th>stdsky</th></tr></thead>\n",
       "<thead><tr><th>float32</th><th>float32</th><th>float32</th></tr></thead>\n",
       "<tr><td>10.0</td><td>-29.947975</td><td>8.217153e-06</td></tr>\n",
       "<tr><td>15.0</td><td>-29.659554</td><td>8.634799e-06</td></tr>\n",
       "<tr><td>20.0</td><td>-29.366314</td><td>6.9720595e-06</td></tr>\n",
       "<tr><td>25.0</td><td>-29.107344</td><td>9.158272e-06</td></tr>\n",
       "<tr><td>30.0</td><td>-28.444647</td><td>9.290993e-06</td></tr>\n",
       "<tr><td>35.0</td><td>-28.270079</td><td>8.730505e-06</td></tr>\n",
       "<tr><td>40.0</td><td>-28.144033</td><td>1.0303747e-05</td></tr>\n",
       "<tr><td>45.0</td><td>-28.056417</td><td>9.786631e-06</td></tr>\n",
       "<tr><td>30.0</td><td>-28.431787</td><td>8.088821e-06</td></tr>\n",
       "<tr><td>11.0</td><td>-29.89668</td><td>7.302319e-06</td></tr>\n",
       "</table>"
      ],
      "text/plain": [
       "<Table length=10>\n",
       "moonsep  meansky       stdsky   \n",
       "float32  float32      float32   \n",
       "------- ---------- -------------\n",
       "   10.0 -29.947975  8.217153e-06\n",
       "   15.0 -29.659554  8.634799e-06\n",
       "   20.0 -29.366314 6.9720595e-06\n",
       "   25.0 -29.107344  9.158272e-06\n",
       "   30.0 -28.444647  9.290993e-06\n",
       "   35.0 -28.270079  8.730505e-06\n",
       "   40.0 -28.144033 1.0303747e-05\n",
       "   45.0 -28.056417  9.786631e-06\n",
       "   30.0 -28.431787  8.088821e-06\n",
       "   11.0  -29.89668  7.302319e-06"
      ]
     },
     "execution_count": 18,
     "metadata": {},
     "output_type": "execute_result"
    }
   ],
   "source": [
    "spec = spec_sky()\n",
    "spec"
   ]
  },
  {
   "cell_type": "code",
   "execution_count": 21,
   "metadata": {},
   "outputs": [
    {
     "data": {
      "text/plain": [
       "Text(0.5,1,'Night 20191112')"
      ]
     },
     "execution_count": 21,
     "metadata": {},
     "output_type": "execute_result"
    },
    {
     "data": {
      "image/png": "[encoded data removed]",
      "text/plain": [
       "<matplotlib.figure.Figure at 0x2aaae234dfd0>"
      ]
     },
     "metadata": {
      "needs_background": "light"
     },
     "output_type": "display_data"
    }
   ],
   "source": [
    "fig, ax = plt.subplots(figsize=(8, 6))\n",
    "\n",
    "gfaref = gfa['sky_mag_ab'][gfa['moonsep'].argmax()]\n",
    "specref = spec['meansky'][spec['moonsep'].argmax()]\n",
    "\n",
    "ax.scatter(gfa['moonsep'], gfa['sky_mag_ab'] - gfaref, label='GFAs')\n",
    "ax.scatter(spec['moonsep'], spec['meansky'] - specref, label='Spectra')\n",
    "ax.invert_xaxis()\n",
    "#ax.set_ylim(17.5, 14.5)\n",
    "ax.set_xlabel('Target-Moon Separation (degree)')\n",
    "ax.set_ylabel('Relative Sky Brightness (AB mag)')\n",
    "ax.legend()\n",
    "ax.set_title('Night {}'.format(night))"
   ]
  },
  {
   "cell_type": "code",
   "execution_count": null,
   "metadata": {},
   "outputs": [],
   "source": []
  }
 ],
 "metadata": {
  "kernelspec": {
   "display_name": "DESI master ioannis",
   "language": "python",
   "name": "desi-master-ioannis"
  },
  "language_info": {
   "codemirror_mode": {
    "name": "ipython",
    "version": 3
   },
   "file_extension": ".py",
   "mimetype": "text/x-python",
   "name": "python",
   "nbconvert_exporter": "python",
   "pygments_lexer": "ipython3",
   "version": "3.6.6"
  }
 },
 "nbformat": 4,
 "nbformat_minor": 4
}
