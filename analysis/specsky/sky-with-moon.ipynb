{
 "cells": [
  {
   "cell_type": "markdown",
   "metadata": {},
   "source": [
    "# Sky with the Moon Up\n",
    "\n",
    "* https://desi.lbl.gov/trac/wiki/CommissioningCommissioningPlanning/commishdata#NightSky\n",
    "* https://portal.nersc.gov/project/desi/collab/nightwatch/kpno/20191112/exposures.html\n",
    "* http://desi-www.kpno.noao.edu:8090/nightsum/nightsum-2019-11-12/nightsum.html\n",
    "\n",
    "**Data**  \n",
    "* /global/projecta/projectdirs/desi/spectro/redux/daily/exposures/20191112  \n",
    "* /global/projecta/projectdirs/desi/spectro/redux/daily/exposures/20191112\n",
    "* Exposures 27337-27396\n",
    "\n",
    "**Data Model**  \n",
    "* https://desidatamodel.readthedocs.io/en/latest/DESI_SPECTRO_REDUX/SPECPROD/exposures/NIGHT/EXPID/sky-CAMERA-EXPID.html\n",
    "\n",
    "John Moustakas"
   ]
  },
  {
   "cell_type": "code",
   "execution_count": 1,
   "metadata": {},
   "outputs": [],
   "source": [
    "import os, sys, glob, pdb\n",
    "import numpy as np\n",
    "import fitsio"
   ]
  },
  {
   "cell_type": "code",
   "execution_count": 2,
   "metadata": {},
   "outputs": [],
   "source": [
    "from astropy.table import Table, vstack\n",
    "import astropy.units as u\n",
    "from astropy.coordinates import SkyCoord\n",
    "\n",
    "import astropy.time\n",
    "import astropy.coordinates\n",
    "  \n",
    "# hack!\n",
    "from astropy.utils.iers import conf\n",
    "from astropy.utils import iers\n",
    "conf.auto_max_age = None  \n",
    "iers.Conf.iers_auto_url.set('ftp://cddis.gsfc.nasa.gov/pub/products/iers/finals2000A.all')    \n",
    "\n",
    "loc = astropy.coordinates.EarthLocation.of_site('Kitt Peak')"
   ]
  },
  {
   "cell_type": "code",
   "execution_count": 19,
   "metadata": {},
   "outputs": [],
   "source": [
    "import desispec.io\n",
    "import desimodel.io\n",
    "import desimodel.io"
   ]
  },
  {
   "cell_type": "code",
   "execution_count": 4,
   "metadata": {},
   "outputs": [],
   "source": [
    "# https://astroplan.readthedocs.io/en/v0.1/_modules/astroplan/moon.html\n",
    "import ephem\n",
    "\n",
    "def moon_phase_angle(time, location):\n",
    "    sun = astropy.coordinates.get_sun(time).transform_to(astropy.coordinates.AltAz(\n",
    "        location=location, obstime=time))\n",
    "    moon = astropy.coordinates.get_moon(time, location)\n",
    "    elongation = sun.separation(moon)\n",
    "    return np.arctan2(sun.distance*np.sin(elongation),\n",
    "                      moon.distance - sun.distance*np.cos(elongation))\n",
    "\n",
    "def moon_illumination(time, location):\n",
    "    i = moon_phase_angle(time, location)\n",
    "    k = (1 + np.cos(i))/2.0\n",
    "    return k.value"
   ]
  },
  {
   "cell_type": "markdown",
   "metadata": {},
   "source": [
    "import speclite\n",
    "import specsim.atmosphere\n",
    "import specsim.simulator"
   ]
  },
  {
   "cell_type": "code",
   "execution_count": 5,
   "metadata": {},
   "outputs": [],
   "source": [
    "import matplotlib.pyplot as plt\n",
    "import seaborn as sns\n",
    "\n",
    "sns.set(context='talk', style='ticks', font_scale=1.1)\n",
    "%matplotlib inline"
   ]
  },
  {
   "cell_type": "code",
   "execution_count": 6,
   "metadata": {},
   "outputs": [],
   "source": [
    "allcam = ('b', 'r', 'z')\n",
    "allspec = ['{}'.format(nn) for nn in np.arange(10)]\n",
    "topdir = os.getenv('DESI_ROOT')+'/spectro'"
   ]
  },
  {
   "cell_type": "markdown",
   "metadata": {},
   "source": [
    "#### Initialize access to the online database.\n",
    "\n",
    "https://github.com/desihub/desicmx/blob/master/analysis/gfa/DESI-Online-Database-Tutorial.ipynb"
   ]
  },
  {
   "cell_type": "code",
   "execution_count": 7,
   "metadata": {},
   "outputs": [],
   "source": [
    "dbfile = os.getenv('HOME')+'/software/desi-telemetry-db.yaml'\n",
    "if not os.path.exists(dbfile):\n",
    "    import getpass\n",
    "    pw = getpass.getpass(prompt='Enter database password: ')\n",
    "    with open(dbfile, 'w') as f:\n",
    "        print('host: db.replicator.dev-cattle.stable.spin.nersc.org', file=f)\n",
    "        print('dbname: desi_dev', file=f)\n",
    "        print('port: 60042', file=f)\n",
    "        print('user: desi_reader', file=f)\n",
    "        print(f'password: {pw}', file=f)\n",
    "    print('Created {}'.format(dbfile))"
   ]
  },
  {
   "cell_type": "code",
   "execution_count": 8,
   "metadata": {},
   "outputs": [
    {
     "name": "stdout",
     "output_type": "stream",
     "text": [
      "id,data_location,thumbnail,errors,targtra,targtdec,telstat,skyra,skydec,reqra,reqdec,deltara,deltadec,reqtime,exptime,flavor,program,lead,propid,object,instance,utc_dark,utc_beg,utc_end,positioned,prepared,started,exposed,digitized,built,distributed,paused,aborted,saved,saved_updated,discard,aos,seeing,guider,focus,tileid,inposition,positer,ntargets,seqid,seqnum,seqtot,moonangl,airmass,mountha,zd,mountaz,domeaz,st,vccd,raoffset,decoffset,slewangl,readout_time,hexapod_time,slew_time,time_between_exposures,script,manifest,spectrographs,update_time,frames,multiframe,reqha,reqaz,reqel,image_cameras,guide_cameras,focus_cameras,excluded,fiberassign,s2n,transpar,skylevel,zenith,dominpos,whitespt,inpos,inctrl,mjd_obs,date_obs,moonra,moondec,guider_mode,etc,collected,night,ups,dome,computer,telescope,tower,parallactic,tcsmjd,pmready,mntoffd,mntoffr,se_annex,guidoffr,guidoffd,petals,cal_lamps,skytime,focstime,guidtime,mountel,hexapod,adc,action,sequence,observers,exposing,done,digitizing,obstype\n",
      "Index(['tcs_info', 'tcs_timestamp', 'date_ut', 'st', 'mjd', 'zd', 'airmass',\n",
      "       'parallactic', 'moon_ra', 'moon_dec', 'tracking', 'slew_timer',\n",
      "       'beyond_pole', 'mount_incontrol', 'mount_inposition', 'mount_ha',\n",
      "       'mount_ha_sexagesimal', 'mount_dec', 'mount_dec_sexagesimal',\n",
      "       'mount_az', 'mount_az_sexagesimal', 'mount_el', 'mount_el_sexagesimal',\n",
      "       'mount_offset_ra', 'mount_offset_dec', 'sky_ra', 'sky_ra_sexagesimal',\n",
      "       'sky_dec', 'sky_dec_sexagesimal', 'target_ra', 'target_ra_sexagesimal',\n",
      "       'target_dec', 'target_dec_sexagesimal', 'target_az',\n",
      "       'target_az_sexagesimal', 'target_el', 'target_el_sexagesimal',\n",
      "       'target_offset_ra', 'target_offset_dec', 'epoch', 'equinox',\n",
      "       'guider_offset_ra', 'guider_offset_dec', 'at_zenith', 'at_whitespot',\n",
      "       'at_se_annex', 'dome_az', 'dome_inposition', 'mirror_ready',\n",
      "       'time_recorded', 'connected', 'tcs_state', 'dos_instance', 'row_status',\n",
      "       'row_status_time', 'row_status_user', 'glycol', 'MJD'],\n",
      "      dtype='object')\n"
     ]
    }
   ],
   "source": [
    "from desietcimg.db import DB, Exposures, NightTelemetry\n",
    "db = DB(config_name=dbfile)\n",
    "ExpInfo = Exposures(db)\n",
    "print(ExpInfo.what)\n",
    "TcsInfo = NightTelemetry(db, 'tcs_info')\n",
    "print(TcsInfo(20191112).columns)\n",
    "#dir(exp(27339))"
   ]
  },
  {
   "cell_type": "code",
   "execution_count": 9,
   "metadata": {},
   "outputs": [],
   "source": [
    "#ss = desispec.io.read_sky('/global/project/projectdirs/desi/spectro/redux/daily/exposures/20191112/00027345/sky-r3-00027345.fits')\n",
    "#ss.header[:40]"
   ]
  },
  {
   "cell_type": "code",
   "execution_count": 10,
   "metadata": {},
   "outputs": [],
   "source": [
    "#tcsinfo = tcs('20191112')\n",
    "#ii = np.argmin(np.abs(tcsinfo.mjd.values-58800.22016993))\n",
    "#tcsinfo.iloc[ii]"
   ]
  },
  {
   "cell_type": "code",
   "execution_count": 42,
   "metadata": {},
   "outputs": [
    {
     "data": {
      "text/plain": [
       "array([0.14797358, 0.14801762, 0.14820986, ..., 0.05506739, 0.05511871,\n",
       "       0.05547868])"
      ]
     },
     "execution_count": 42,
     "metadata": {},
     "output_type": "execute_result"
    }
   ],
   "source": [
    "fp = desimodel.io.load_fiberpos()\n",
    "tt = desimodel.io.load_throughput('r')\n",
    "tt.extinction(tt._wave)"
   ]
  },
  {
   "cell_type": "code",
   "execution_count": 46,
   "metadata": {},
   "outputs": [
    {
     "data": {
      "text/plain": [
       "[<matplotlib.lines.Line2D at 0x2aaae4dfd080>]"
      ]
     },
     "execution_count": 46,
     "metadata": {},
     "output_type": "execute_result"
    },
    {
     "data": {
      "image/png": "[encoded data removed]",
      "text/plain": [
       "<matplotlib.figure.Figure at 0x2aaae577b828>"
      ]
     },
     "metadata": {
      "needs_background": "light"
     },
     "output_type": "display_data"
    }
   ],
   "source": [
    "tt = desimodel.io.load_throughput('r')\n",
    "plt.plot(tt._wave, tt.thru(tt._wave))\n",
    "plt.plot(tt._wave, tt.atmospheric_throughput(tt._wave))\n",
    "plt.plot(tt._wave, tt.fiberinput_throughput(tt._wave))"
   ]
  },
  {
   "cell_type": "code",
   "execution_count": 61,
   "metadata": {},
   "outputs": [
    {
     "data": {
      "text/plain": [
       "(0, 20000)"
      ]
     },
     "execution_count": 61,
     "metadata": {},
     "output_type": "execute_result"
    },
    {
     "data": {
      "image/png": "[encoded data removed]",
      "text/plain": [
       "<matplotlib.figure.Figure at 0x2aaae5b912e8>"
      ]
     },
     "metadata": {
      "needs_background": "light"
     },
     "output_type": "display_data"
    }
   ],
   "source": [
    "dd = '/global/project/projectdirs/desi/spectro/redux/daily/exposures/20191112/00027345'\n",
    "for cam in ('b', 'r', 'z'):\n",
    "    tt = desimodel.io.load_throughput(cam)\n",
    "    sr = desispec.io.read_frame(dd+'/frame-{}3-00027345.fits'.format(cam))\n",
    "    ss = desispec.io.read_sky(dd+'/sky-{}3-00027345.fits'.format(cam))\n",
    "    plt.plot(ss.wave, ss.flux[0, :] / tt.thru(ss.wave))\n",
    "plt.ylim(0, 20000)"
   ]
  },
  {
   "cell_type": "code",
   "execution_count": 67,
   "metadata": {},
   "outputs": [
    {
     "data": {
      "text/html": [
       "&lt;Table length=500&gt;\n",
       "<table id=\"table46913468797672\" class=\"table-striped table-bordered table-condensed\">\n",
       "<thead><tr><th>TARGETID</th><th>DESI_TARGET</th><th>BGS_TARGET</th><th>MWS_TARGET</th><th>SECONDARY_TARGET</th><th>TARGET_RA</th><th>TARGET_DEC</th><th>TARGET_RA_IVAR</th><th>TARGET_DEC_IVAR</th><th>BRICKID</th><th>BRICK_OBJID</th><th>MORPHTYPE</th><th>PRIORITY</th><th>SUBPRIORITY</th><th>REF_ID</th><th>PMRA</th><th>PMDEC</th><th>REF_EPOCH</th><th>PMRA_IVAR</th><th>PMDEC_IVAR</th><th>RELEASE</th><th>FLUX_G</th><th>FLUX_R</th><th>FLUX_Z</th><th>FLUX_W1</th><th>FLUX_W2</th><th>FLUX_IVAR_G</th><th>FLUX_IVAR_R</th><th>FLUX_IVAR_Z</th><th>FLUX_IVAR_W1</th><th>FLUX_IVAR_W2</th><th>FIBERFLUX_G</th><th>FIBERFLUX_R</th><th>FIBERFLUX_Z</th><th>FIBERFLUX_W1</th><th>FIBERFLUX_W2</th><th>FIBERTOTFLUX_G</th><th>FIBERTOTFLUX_R</th><th>FIBERTOTFLUX_Z</th><th>FIBERTOTFLUX_W1</th><th>FIBERTOTFLUX_W2</th><th>MW_TRANSMISSION_G</th><th>MW_TRANSMISSION_R</th><th>MW_TRANSMISSION_Z</th><th>EBV</th><th>PHOTSYS</th><th>OBSCONDITIONS</th><th>NUMOBS_INIT</th><th>PRIORITY_INIT</th><th>NUMOBS_MORE</th><th>HPXPIXEL</th><th>FIBER</th><th>PETAL_LOC</th><th>DEVICE_LOC</th><th>LOCATION</th><th>FIBERSTATUS</th><th>OBJTYPE</th><th>LAMBDA_REF</th><th>FIBERASSIGN_X</th><th>FIBERASSIGN_Y</th><th>FA_TARGET</th><th>FA_TYPE</th><th>NUMTARGET</th><th>FIBER_RA</th><th>FIBER_DEC</th><th>FIBER_RA_IVAR</th><th>FIBER_DEC_IVAR</th><th>PLATEMAKER_X</th><th>PLATEMAKER_Y</th><th>PLATEMAKER_RA</th><th>PLATEMAKER_DEC</th><th>NUM_ITER</th><th>SPECTROID</th></tr></thead>\n",
       "<thead><tr><th>int64</th><th>int64</th><th>int64</th><th>int64</th><th>int64</th><th>float64</th><th>float64</th><th>float64</th><th>float64</th><th>int64</th><th>int64</th><th>str4</th><th>int32</th><th>float64</th><th>int64</th><th>float32</th><th>float32</th><th>float32</th><th>float32</th><th>float32</th><th>int16</th><th>float32</th><th>float32</th><th>float32</th><th>float32</th><th>float32</th><th>float32</th><th>float32</th><th>float32</th><th>float32</th><th>float32</th><th>float32</th><th>float32</th><th>float32</th><th>float32</th><th>float32</th><th>float32</th><th>float32</th><th>float32</th><th>float32</th><th>float32</th><th>float32</th><th>float32</th><th>float32</th><th>float32</th><th>str1</th><th>int32</th><th>int64</th><th>int64</th><th>int32</th><th>int64</th><th>int32</th><th>int32</th><th>int32</th><th>int32</th><th>int32</th><th>str3</th><th>float32</th><th>float32</th><th>float32</th><th>int64</th><th>uint8</th><th>int16</th><th>float64</th><th>float64</th><th>float32</th><th>float32</th><th>float32</th><th>float32</th><th>float32</th><th>float32</th><th>int32</th><th>int32</th></tr></thead>\n",
       "<tr><td>0</td><td>0</td><td>0</td><td>0</td><td>0</td><td>0.0</td><td>0.0</td><td>0.0</td><td>0.0</td><td>0</td><td>0</td><td></td><td>0</td><td>0.0</td><td>0</td><td>0.0</td><td>0.0</td><td>0.0</td><td>0.0</td><td>0.0</td><td>0</td><td>0.0</td><td>0.0</td><td>0.0</td><td>0.0</td><td>0.0</td><td>0.0</td><td>0.0</td><td>0.0</td><td>0.0</td><td>0.0</td><td>0.0</td><td>0.0</td><td>0.0</td><td>0.0</td><td>0.0</td><td>0.0</td><td>0.0</td><td>0.0</td><td>0.0</td><td>0.0</td><td>0.999</td><td>0.999</td><td>0.999</td><td>0.001</td><td>S</td><td>0</td><td>0</td><td>0</td><td>0</td><td>0</td><td>0</td><td>0</td><td>311</td><td>311</td><td>0</td><td></td><td>5400.0</td><td>83.21898</td><td>-286.66373</td><td>0</td><td>0</td><td>0</td><td>0.0</td><td>0.0</td><td>0.0</td><td>0.0</td><td>0.0</td><td>0.0</td><td>0.0</td><td>0.0</td><td>2</td><td>0</td></tr>\n",
       "<tr><td>0</td><td>4294967296</td><td>0</td><td>0</td><td>0</td><td>0.0</td><td>0.0</td><td>0.0</td><td>0.0</td><td>0</td><td>0</td><td></td><td>0</td><td>0.0</td><td>0</td><td>0.0</td><td>0.0</td><td>0.0</td><td>0.0</td><td>0.0</td><td>0</td><td>0.0</td><td>0.0</td><td>0.0</td><td>0.0</td><td>0.0</td><td>0.0</td><td>0.0</td><td>0.0</td><td>0.0</td><td>0.0</td><td>0.0</td><td>0.0</td><td>0.0</td><td>0.0</td><td>0.0</td><td>0.0</td><td>0.0</td><td>0.0</td><td>0.0</td><td>0.0</td><td>0.999</td><td>0.999</td><td>0.999</td><td>0.001</td><td>S</td><td>0</td><td>0</td><td>0</td><td>0</td><td>0</td><td>1</td><td>0</td><td>272</td><td>272</td><td>0</td><td>SKY</td><td>5400.0</td><td>59.109577</td><td>-273.27396</td><td>0</td><td>0</td><td>0</td><td>0.0</td><td>0.0</td><td>0.0</td><td>0.0</td><td>0.0</td><td>0.0</td><td>0.0</td><td>0.0</td><td>2</td><td>0</td></tr>\n",
       "<tr><td>0</td><td>4294967296</td><td>0</td><td>0</td><td>0</td><td>0.0</td><td>0.0</td><td>0.0</td><td>0.0</td><td>0</td><td>0</td><td></td><td>0</td><td>0.0</td><td>0</td><td>0.0</td><td>0.0</td><td>0.0</td><td>0.0</td><td>0.0</td><td>0</td><td>0.0</td><td>0.0</td><td>0.0</td><td>0.0</td><td>0.0</td><td>0.0</td><td>0.0</td><td>0.0</td><td>0.0</td><td>0.0</td><td>0.0</td><td>0.0</td><td>0.0</td><td>0.0</td><td>0.0</td><td>0.0</td><td>0.0</td><td>0.0</td><td>0.0</td><td>0.0</td><td>0.999</td><td>0.999</td><td>0.999</td><td>0.001</td><td>S</td><td>0</td><td>0</td><td>0</td><td>0</td><td>0</td><td>2</td><td>0</td><td>252</td><td>252</td><td>0</td><td>SKY</td><td>5400.0</td><td>31.751867</td><td>-269.80435</td><td>0</td><td>0</td><td>0</td><td>0.0</td><td>0.0</td><td>0.0</td><td>0.0</td><td>0.0</td><td>0.0</td><td>0.0</td><td>0.0</td><td>2</td><td>0</td></tr>\n",
       "<tr><td>0</td><td>0</td><td>0</td><td>0</td><td>0</td><td>0.0</td><td>0.0</td><td>0.0</td><td>0.0</td><td>0</td><td>0</td><td></td><td>0</td><td>0.0</td><td>0</td><td>0.0</td><td>0.0</td><td>0.0</td><td>0.0</td><td>0.0</td><td>0</td><td>0.0</td><td>0.0</td><td>0.0</td><td>0.0</td><td>0.0</td><td>0.0</td><td>0.0</td><td>0.0</td><td>0.0</td><td>0.0</td><td>0.0</td><td>0.0</td><td>0.0</td><td>0.0</td><td>0.0</td><td>0.0</td><td>0.0</td><td>0.0</td><td>0.0</td><td>0.0</td><td>0.999</td><td>0.999</td><td>0.999</td><td>0.001</td><td>S</td><td>0</td><td>0</td><td>0</td><td>0</td><td>0</td><td>3</td><td>0</td><td>156</td><td>156</td><td>0</td><td></td><td>5400.0</td><td>0.18432418</td><td>-221.17873</td><td>0</td><td>0</td><td>0</td><td>0.0</td><td>0.0</td><td>0.0</td><td>0.0</td><td>0.0</td><td>0.0</td><td>0.0</td><td>0.0</td><td>2</td><td>0</td></tr>\n",
       "<tr><td>0</td><td>0</td><td>0</td><td>0</td><td>0</td><td>0.0</td><td>0.0</td><td>0.0</td><td>0.0</td><td>0</td><td>0</td><td></td><td>0</td><td>0.0</td><td>0</td><td>0.0</td><td>0.0</td><td>0.0</td><td>0.0</td><td>0.0</td><td>0</td><td>0.0</td><td>0.0</td><td>0.0</td><td>0.0</td><td>0.0</td><td>0.0</td><td>0.0</td><td>0.0</td><td>0.0</td><td>0.0</td><td>0.0</td><td>0.0</td><td>0.0</td><td>0.0</td><td>0.0</td><td>0.0</td><td>0.0</td><td>0.0</td><td>0.0</td><td>0.0</td><td>0.999</td><td>0.999</td><td>0.999</td><td>0.001</td><td>S</td><td>0</td><td>0</td><td>0</td><td>0</td><td>0</td><td>4</td><td>0</td><td>198</td><td>198</td><td>0</td><td></td><td>5400.0</td><td>-19.776659</td><td>-253.03535</td><td>0</td><td>0</td><td>0</td><td>0.0</td><td>0.0</td><td>0.0</td><td>0.0</td><td>0.0</td><td>0.0</td><td>0.0</td><td>0.0</td><td>2</td><td>0</td></tr>\n",
       "<tr><td>0</td><td>0</td><td>0</td><td>0</td><td>0</td><td>0.0</td><td>0.0</td><td>0.0</td><td>0.0</td><td>0</td><td>0</td><td></td><td>0</td><td>0.0</td><td>0</td><td>0.0</td><td>0.0</td><td>0.0</td><td>0.0</td><td>0.0</td><td>0</td><td>0.0</td><td>0.0</td><td>0.0</td><td>0.0</td><td>0.0</td><td>0.0</td><td>0.0</td><td>0.0</td><td>0.0</td><td>0.0</td><td>0.0</td><td>0.0</td><td>0.0</td><td>0.0</td><td>0.0</td><td>0.0</td><td>0.0</td><td>0.0</td><td>0.0</td><td>0.0</td><td>0.999</td><td>0.999</td><td>0.999</td><td>0.001</td><td>S</td><td>0</td><td>0</td><td>0</td><td>0</td><td>0</td><td>5</td><td>0</td><td>204</td><td>204</td><td>0</td><td></td><td>5400.0</td><td>41.488995</td><td>-240.11723</td><td>0</td><td>0</td><td>0</td><td>0.0</td><td>0.0</td><td>0.0</td><td>0.0</td><td>0.0</td><td>0.0</td><td>0.0</td><td>0.0</td><td>2</td><td>0</td></tr>\n",
       "<tr><td>0</td><td>4294967296</td><td>0</td><td>0</td><td>0</td><td>0.0</td><td>0.0</td><td>0.0</td><td>0.0</td><td>0</td><td>0</td><td></td><td>0</td><td>0.0</td><td>0</td><td>0.0</td><td>0.0</td><td>0.0</td><td>0.0</td><td>0.0</td><td>0</td><td>0.0</td><td>0.0</td><td>0.0</td><td>0.0</td><td>0.0</td><td>0.0</td><td>0.0</td><td>0.0</td><td>0.0</td><td>0.0</td><td>0.0</td><td>0.0</td><td>0.0</td><td>0.0</td><td>0.0</td><td>0.0</td><td>0.0</td><td>0.0</td><td>0.0</td><td>0.0</td><td>0.999</td><td>0.999</td><td>0.999</td><td>0.001</td><td>S</td><td>0</td><td>0</td><td>0</td><td>0</td><td>0</td><td>6</td><td>0</td><td>233</td><td>233</td><td>0</td><td>SKY</td><td>5400.0</td><td>14.601016</td><td>-264.20517</td><td>0</td><td>0</td><td>0</td><td>0.0</td><td>0.0</td><td>0.0</td><td>0.0</td><td>0.0</td><td>0.0</td><td>0.0</td><td>0.0</td><td>2</td><td>0</td></tr>\n",
       "<tr><td>0</td><td>0</td><td>0</td><td>0</td><td>0</td><td>0.0</td><td>0.0</td><td>0.0</td><td>0.0</td><td>0</td><td>0</td><td></td><td>0</td><td>0.0</td><td>0</td><td>0.0</td><td>0.0</td><td>0.0</td><td>0.0</td><td>0.0</td><td>0</td><td>0.0</td><td>0.0</td><td>0.0</td><td>0.0</td><td>0.0</td><td>0.0</td><td>0.0</td><td>0.0</td><td>0.0</td><td>0.0</td><td>0.0</td><td>0.0</td><td>0.0</td><td>0.0</td><td>0.0</td><td>0.0</td><td>0.0</td><td>0.0</td><td>0.0</td><td>0.0</td><td>0.999</td><td>0.999</td><td>0.999</td><td>0.001</td><td>S</td><td>0</td><td>0</td><td>0</td><td>0</td><td>0</td><td>7</td><td>0</td><td>172</td><td>172</td><td>0</td><td></td><td>5400.0</td><td>17.358227</td><td>-226.7752</td><td>0</td><td>0</td><td>0</td><td>0.0</td><td>0.0</td><td>0.0</td><td>0.0</td><td>0.0</td><td>0.0</td><td>0.0</td><td>0.0</td><td>2</td><td>0</td></tr>\n",
       "<tr><td>0</td><td>0</td><td>0</td><td>0</td><td>0</td><td>0.0</td><td>0.0</td><td>0.0</td><td>0.0</td><td>0</td><td>0</td><td></td><td>0</td><td>0.0</td><td>0</td><td>0.0</td><td>0.0</td><td>0.0</td><td>0.0</td><td>0.0</td><td>0</td><td>0.0</td><td>0.0</td><td>0.0</td><td>0.0</td><td>0.0</td><td>0.0</td><td>0.0</td><td>0.0</td><td>0.0</td><td>0.0</td><td>0.0</td><td>0.0</td><td>0.0</td><td>0.0</td><td>0.0</td><td>0.0</td><td>0.0</td><td>0.0</td><td>0.0</td><td>0.0</td><td>0.999</td><td>0.999</td><td>0.999</td><td>0.001</td><td>S</td><td>0</td><td>0</td><td>0</td><td>0</td><td>0</td><td>8</td><td>0</td><td>310</td><td>310</td><td>0</td><td></td><td>5400.0</td><td>73.0176</td><td>-288.79773</td><td>0</td><td>0</td><td>0</td><td>0.0</td><td>0.0</td><td>0.0</td><td>0.0</td><td>0.0</td><td>0.0</td><td>0.0</td><td>0.0</td><td>2</td><td>0</td></tr>\n",
       "<tr><td>0</td><td>0</td><td>0</td><td>0</td><td>0</td><td>0.0</td><td>0.0</td><td>0.0</td><td>0.0</td><td>0</td><td>0</td><td></td><td>0</td><td>0.0</td><td>0</td><td>0.0</td><td>0.0</td><td>0.0</td><td>0.0</td><td>0.0</td><td>0</td><td>0.0</td><td>0.0</td><td>0.0</td><td>0.0</td><td>0.0</td><td>0.0</td><td>0.0</td><td>0.0</td><td>0.0</td><td>0.0</td><td>0.0</td><td>0.0</td><td>0.0</td><td>0.0</td><td>0.0</td><td>0.0</td><td>0.0</td><td>0.0</td><td>0.0</td><td>0.0</td><td>0.999</td><td>0.999</td><td>0.999</td><td>0.001</td><td>S</td><td>0</td><td>0</td><td>0</td><td>0</td><td>0</td><td>9</td><td>0</td><td>290</td><td>290</td><td>0</td><td></td><td>5400.0</td><td>55.85053</td><td>-283.17615</td><td>0</td><td>0</td><td>0</td><td>0.0</td><td>0.0</td><td>0.0</td><td>0.0</td><td>0.0</td><td>0.0</td><td>0.0</td><td>0.0</td><td>2</td><td>0</td></tr>\n",
       "<tr><td>...</td><td>...</td><td>...</td><td>...</td><td>...</td><td>...</td><td>...</td><td>...</td><td>...</td><td>...</td><td>...</td><td>...</td><td>...</td><td>...</td><td>...</td><td>...</td><td>...</td><td>...</td><td>...</td><td>...</td><td>...</td><td>...</td><td>...</td><td>...</td><td>...</td><td>...</td><td>...</td><td>...</td><td>...</td><td>...</td><td>...</td><td>...</td><td>...</td><td>...</td><td>...</td><td>...</td><td>...</td><td>...</td><td>...</td><td>...</td><td>...</td><td>...</td><td>...</td><td>...</td><td>...</td><td>...</td><td>...</td><td>...</td><td>...</td><td>...</td><td>...</td><td>...</td><td>...</td><td>...</td><td>...</td><td>...</td><td>...</td><td>...</td><td>...</td><td>...</td><td>...</td><td>...</td><td>...</td><td>...</td><td>...</td><td>...</td><td>...</td><td>...</td><td>...</td><td>...</td><td>...</td><td>...</td><td>...</td></tr>\n",
       "<tr><td>0</td><td>0</td><td>0</td><td>0</td><td>0</td><td>0.0</td><td>0.0</td><td>0.0</td><td>0.0</td><td>0</td><td>0</td><td></td><td>0</td><td>0.0</td><td>0</td><td>0.0</td><td>0.0</td><td>0.0</td><td>0.0</td><td>0.0</td><td>0</td><td>0.0</td><td>0.0</td><td>0.0</td><td>0.0</td><td>0.0</td><td>0.0</td><td>0.0</td><td>0.0</td><td>0.0</td><td>0.0</td><td>0.0</td><td>0.0</td><td>0.0</td><td>0.0</td><td>0.0</td><td>0.0</td><td>0.0</td><td>0.0</td><td>0.0</td><td>0.0</td><td>0.999</td><td>0.999</td><td>0.999</td><td>0.001</td><td>S</td><td>0</td><td>0</td><td>0</td><td>0</td><td>0</td><td>490</td><td>0</td><td>486</td><td>486</td><td>0</td><td></td><td>5400.0</td><td>-27.676123</td><td>-393.81152</td><td>0</td><td>0</td><td>0</td><td>0.0</td><td>0.0</td><td>0.0</td><td>0.0</td><td>0.0</td><td>0.0</td><td>0.0</td><td>0.0</td><td>2</td><td>0</td></tr>\n",
       "<tr><td>0</td><td>0</td><td>0</td><td>0</td><td>0</td><td>0.0</td><td>0.0</td><td>0.0</td><td>0.0</td><td>0</td><td>0</td><td></td><td>0</td><td>0.0</td><td>0</td><td>0.0</td><td>0.0</td><td>0.0</td><td>0.0</td><td>0.0</td><td>0</td><td>0.0</td><td>0.0</td><td>0.0</td><td>0.0</td><td>0.0</td><td>0.0</td><td>0.0</td><td>0.0</td><td>0.0</td><td>0.0</td><td>0.0</td><td>0.0</td><td>0.0</td><td>0.0</td><td>0.0</td><td>0.0</td><td>0.0</td><td>0.0</td><td>0.0</td><td>0.0</td><td>0.999</td><td>0.999</td><td>0.999</td><td>0.001</td><td>S</td><td>0</td><td>0</td><td>0</td><td>0</td><td>0</td><td>491</td><td>0</td><td>489</td><td>489</td><td>0</td><td></td><td>5400.0</td><td>2.9225137</td><td>-387.24213</td><td>0</td><td>0</td><td>0</td><td>0.0</td><td>0.0</td><td>0.0</td><td>0.0</td><td>0.0</td><td>0.0</td><td>0.0</td><td>0.0</td><td>2</td><td>0</td></tr>\n",
       "<tr><td>0</td><td>0</td><td>0</td><td>0</td><td>0</td><td>0.0</td><td>0.0</td><td>0.0</td><td>0.0</td><td>0</td><td>0</td><td></td><td>0</td><td>0.0</td><td>0</td><td>0.0</td><td>0.0</td><td>0.0</td><td>0.0</td><td>0.0</td><td>0</td><td>0.0</td><td>0.0</td><td>0.0</td><td>0.0</td><td>0.0</td><td>0.0</td><td>0.0</td><td>0.0</td><td>0.0</td><td>0.0</td><td>0.0</td><td>0.0</td><td>0.0</td><td>0.0</td><td>0.0</td><td>0.0</td><td>0.0</td><td>0.0</td><td>0.0</td><td>0.0</td><td>0.999</td><td>0.999</td><td>0.999</td><td>0.001</td><td>S</td><td>0</td><td>0</td><td>0</td><td>0</td><td>0</td><td>492</td><td>0</td><td>336</td><td>336</td><td>0</td><td></td><td>5400.0</td><td>-66.074486</td><td>-336.83636</td><td>0</td><td>0</td><td>0</td><td>0.0</td><td>0.0</td><td>0.0</td><td>0.0</td><td>0.0</td><td>0.0</td><td>0.0</td><td>0.0</td><td>2</td><td>0</td></tr>\n",
       "<tr><td>0</td><td>0</td><td>0</td><td>0</td><td>0</td><td>0.0</td><td>0.0</td><td>0.0</td><td>0.0</td><td>0</td><td>0</td><td></td><td>0</td><td>0.0</td><td>0</td><td>0.0</td><td>0.0</td><td>0.0</td><td>0.0</td><td>0.0</td><td>0</td><td>0.0</td><td>0.0</td><td>0.0</td><td>0.0</td><td>0.0</td><td>0.0</td><td>0.0</td><td>0.0</td><td>0.0</td><td>0.0</td><td>0.0</td><td>0.0</td><td>0.0</td><td>0.0</td><td>0.0</td><td>0.0</td><td>0.0</td><td>0.0</td><td>0.0</td><td>0.0</td><td>0.999</td><td>0.999</td><td>0.999</td><td>0.001</td><td>S</td><td>0</td><td>0</td><td>0</td><td>0</td><td>0</td><td>493</td><td>0</td><td>260</td><td>260</td><td>0</td><td></td><td>5400.0</td><td>-63.304623</td><td>-299.2309</td><td>0</td><td>0</td><td>0</td><td>0.0</td><td>0.0</td><td>0.0</td><td>0.0</td><td>0.0</td><td>0.0</td><td>0.0</td><td>0.0</td><td>2</td><td>0</td></tr>\n",
       "<tr><td>0</td><td>0</td><td>0</td><td>0</td><td>0</td><td>0.0</td><td>0.0</td><td>0.0</td><td>0.0</td><td>0</td><td>0</td><td></td><td>0</td><td>0.0</td><td>0</td><td>0.0</td><td>0.0</td><td>0.0</td><td>0.0</td><td>0.0</td><td>0</td><td>0.0</td><td>0.0</td><td>0.0</td><td>0.0</td><td>0.0</td><td>0.0</td><td>0.0</td><td>0.0</td><td>0.0</td><td>0.0</td><td>0.0</td><td>0.0</td><td>0.0</td><td>0.0</td><td>0.0</td><td>0.0</td><td>0.0</td><td>0.0</td><td>0.0</td><td>0.0</td><td>0.999</td><td>0.999</td><td>0.999</td><td>0.001</td><td>S</td><td>0</td><td>0</td><td>0</td><td>0</td><td>0</td><td>494</td><td>0</td><td>298</td><td>298</td><td>0</td><td></td><td>5400.0</td><td>-49.380104</td><td>-314.73395</td><td>0</td><td>0</td><td>0</td><td>0.0</td><td>0.0</td><td>0.0</td><td>0.0</td><td>0.0</td><td>0.0</td><td>0.0</td><td>0.0</td><td>2</td><td>0</td></tr>\n",
       "<tr><td>0</td><td>0</td><td>0</td><td>0</td><td>0</td><td>0.0</td><td>0.0</td><td>0.0</td><td>0.0</td><td>0</td><td>0</td><td></td><td>0</td><td>0.0</td><td>0</td><td>0.0</td><td>0.0</td><td>0.0</td><td>0.0</td><td>0.0</td><td>0</td><td>0.0</td><td>0.0</td><td>0.0</td><td>0.0</td><td>0.0</td><td>0.0</td><td>0.0</td><td>0.0</td><td>0.0</td><td>0.0</td><td>0.0</td><td>0.0</td><td>0.0</td><td>0.0</td><td>0.0</td><td>0.0</td><td>0.0</td><td>0.0</td><td>0.0</td><td>0.0</td><td>0.999</td><td>0.999</td><td>0.999</td><td>0.001</td><td>S</td><td>0</td><td>0</td><td>0</td><td>0</td><td>0</td><td>495</td><td>0</td><td>507</td><td>507</td><td>0</td><td></td><td>5400.0</td><td>20.086876</td><td>-392.92233</td><td>0</td><td>0</td><td>0</td><td>0.0</td><td>0.0</td><td>0.0</td><td>0.0</td><td>0.0</td><td>0.0</td><td>0.0</td><td>0.0</td><td>2</td><td>0</td></tr>\n",
       "<tr><td>0</td><td>0</td><td>0</td><td>0</td><td>0</td><td>0.0</td><td>0.0</td><td>0.0</td><td>0.0</td><td>0</td><td>0</td><td></td><td>0</td><td>0.0</td><td>0</td><td>0.0</td><td>0.0</td><td>0.0</td><td>0.0</td><td>0.0</td><td>0</td><td>0.0</td><td>0.0</td><td>0.0</td><td>0.0</td><td>0.0</td><td>0.0</td><td>0.0</td><td>0.0</td><td>0.0</td><td>0.0</td><td>0.0</td><td>0.0</td><td>0.0</td><td>0.0</td><td>0.0</td><td>0.0</td><td>0.0</td><td>0.0</td><td>0.0</td><td>0.0</td><td>0.999</td><td>0.999</td><td>0.999</td><td>0.001</td><td>S</td><td>0</td><td>0</td><td>0</td><td>0</td><td>0</td><td>496</td><td>0</td><td>505</td><td>505</td><td>0</td><td></td><td>5400.0</td><td>-0.31120008</td><td>-397.30386</td><td>0</td><td>0</td><td>0</td><td>0.0</td><td>0.0</td><td>0.0</td><td>0.0</td><td>0.0</td><td>0.0</td><td>0.0</td><td>0.0</td><td>2</td><td>0</td></tr>\n",
       "<tr><td>0</td><td>0</td><td>0</td><td>0</td><td>0</td><td>0.0</td><td>0.0</td><td>0.0</td><td>0.0</td><td>0</td><td>0</td><td></td><td>0</td><td>0.0</td><td>0</td><td>0.0</td><td>0.0</td><td>0.0</td><td>0.0</td><td>0.0</td><td>0</td><td>0.0</td><td>0.0</td><td>0.0</td><td>0.0</td><td>0.0</td><td>0.0</td><td>0.0</td><td>0.0</td><td>0.0</td><td>0.0</td><td>0.0</td><td>0.0</td><td>0.0</td><td>0.0</td><td>0.0</td><td>0.0</td><td>0.0</td><td>0.0</td><td>0.0</td><td>0.0</td><td>0.999</td><td>0.999</td><td>0.999</td><td>0.001</td><td>S</td><td>0</td><td>0</td><td>0</td><td>0</td><td>0</td><td>497</td><td>0</td><td>503</td><td>503</td><td>0</td><td></td><td>5400.0</td><td>-20.735893</td><td>-401.69574</td><td>0</td><td>0</td><td>0</td><td>0.0</td><td>0.0</td><td>0.0</td><td>0.0</td><td>0.0</td><td>0.0</td><td>0.0</td><td>0.0</td><td>2</td><td>0</td></tr>\n",
       "<tr><td>0</td><td>0</td><td>0</td><td>0</td><td>0</td><td>0.0</td><td>0.0</td><td>0.0</td><td>0.0</td><td>0</td><td>0</td><td></td><td>0</td><td>0.0</td><td>0</td><td>0.0</td><td>0.0</td><td>0.0</td><td>0.0</td><td>0.0</td><td>0</td><td>0.0</td><td>0.0</td><td>0.0</td><td>0.0</td><td>0.0</td><td>0.0</td><td>0.0</td><td>0.0</td><td>0.0</td><td>0.0</td><td>0.0</td><td>0.0</td><td>0.0</td><td>0.0</td><td>0.0</td><td>0.0</td><td>0.0</td><td>0.0</td><td>0.0</td><td>0.0</td><td>0.999</td><td>0.999</td><td>0.999</td><td>0.001</td><td>S</td><td>0</td><td>0</td><td>0</td><td>0</td><td>0</td><td>498</td><td>0</td><td>357</td><td>357</td><td>0</td><td></td><td>5400.0</td><td>-59.1169</td><td>-344.6125</td><td>0</td><td>0</td><td>0</td><td>0.0</td><td>0.0</td><td>0.0</td><td>0.0</td><td>0.0</td><td>0.0</td><td>0.0</td><td>0.0</td><td>2</td><td>0</td></tr>\n",
       "<tr><td>0</td><td>4294967296</td><td>0</td><td>0</td><td>0</td><td>0.0</td><td>0.0</td><td>0.0</td><td>0.0</td><td>0</td><td>0</td><td></td><td>0</td><td>0.0</td><td>0</td><td>0.0</td><td>0.0</td><td>0.0</td><td>0.0</td><td>0.0</td><td>0</td><td>0.0</td><td>0.0</td><td>0.0</td><td>0.0</td><td>0.0</td><td>0.0</td><td>0.0</td><td>0.0</td><td>0.0</td><td>0.0</td><td>0.0</td><td>0.0</td><td>0.0</td><td>0.0</td><td>0.0</td><td>0.0</td><td>0.0</td><td>0.0</td><td>0.0</td><td>0.0</td><td>0.999</td><td>0.999</td><td>0.999</td><td>0.001</td><td>S</td><td>0</td><td>0</td><td>0</td><td>0</td><td>0</td><td>499</td><td>0</td><td>467</td><td>467</td><td>0</td><td>SKY</td><td>5400.0</td><td>-34.610825</td><td>-385.93512</td><td>0</td><td>0</td><td>0</td><td>0.0</td><td>0.0</td><td>0.0</td><td>0.0</td><td>0.0</td><td>0.0</td><td>0.0</td><td>0.0</td><td>2</td><td>0</td></tr>\n",
       "</table>"
      ],
      "text/plain": [
       "<Table length=500>\n",
       "TARGETID DESI_TARGET BGS_TARGET MWS_TARGET ... PLATEMAKER_DEC NUM_ITER SPECTROID\n",
       " int64      int64      int64      int64    ...    float32      int32     int32  \n",
       "-------- ----------- ---------- ---------- ... -------------- -------- ---------\n",
       "       0           0          0          0 ...            0.0        2         0\n",
       "       0  4294967296          0          0 ...            0.0        2         0\n",
       "       0  4294967296          0          0 ...            0.0        2         0\n",
       "       0           0          0          0 ...            0.0        2         0\n",
       "       0           0          0          0 ...            0.0        2         0\n",
       "       0           0          0          0 ...            0.0        2         0\n",
       "       0  4294967296          0          0 ...            0.0        2         0\n",
       "       0           0          0          0 ...            0.0        2         0\n",
       "       0           0          0          0 ...            0.0        2         0\n",
       "       0           0          0          0 ...            0.0        2         0\n",
       "     ...         ...        ...        ... ...            ...      ...       ...\n",
       "       0           0          0          0 ...            0.0        2         0\n",
       "       0           0          0          0 ...            0.0        2         0\n",
       "       0           0          0          0 ...            0.0        2         0\n",
       "       0           0          0          0 ...            0.0        2         0\n",
       "       0           0          0          0 ...            0.0        2         0\n",
       "       0           0          0          0 ...            0.0        2         0\n",
       "       0           0          0          0 ...            0.0        2         0\n",
       "       0           0          0          0 ...            0.0        2         0\n",
       "       0           0          0          0 ...            0.0        2         0\n",
       "       0  4294967296          0          0 ...            0.0        2         0"
      ]
     },
     "execution_count": 67,
     "metadata": {},
     "output_type": "execute_result"
    }
   ],
   "source": [
    "sr.fibermap"
   ]
  },
  {
   "cell_type": "markdown",
   "metadata": {},
   "source": [
    "#### Troll the reduced data looking for processed sky exposures."
   ]
  },
  {
   "cell_type": "code",
   "execution_count": 16,
   "metadata": {},
   "outputs": [],
   "source": [
    "def gather_skyspec_info():\n",
    "    allnights = glob.glob(topdir+'/redux/daily/exposures/20191112')\n",
    "    #print(allnights)\n",
    "    info = []\n",
    "    for fullnight in sorted(allnights[:5]):\n",
    "        night = os.path.basename(fullnight)\n",
    "        tcs = TcsInfo(night)\n",
    "        allexpids = glob.glob(fullnight+'/????????')\n",
    "        #print(allexpids)\n",
    "        for datadir in sorted(allexpids):\n",
    "            expid = os.path.basename(datadir)\n",
    "            #exptime = ExpInfo(expid, 'exptime')\n",
    "            for cam in ('r'): # allcam:\n",
    "                for spec in '3': # allspec:\n",
    "                    skyfile = '{}/sky-{}{}-{}.fits'.format(datadir, cam, spec, expid)\n",
    "                    #print(skyfile)\n",
    "                    if os.path.isfile(skyfile):\n",
    "                        #print('Reading {}'.format(skyfile))\n",
    "                        sky = desispec.io.read_sky(skyfile)\n",
    "                        pdb.set_trace()\n",
    "                        \n",
    "                        # gather metadata for this exposure and pack into an astropy Table\n",
    "                        mjdobs = sky.header['MJD-OBS']\n",
    "                        indx = np.argmin(np.abs(tcs['mjd'].values-mjdobs))\n",
    "                        tel = tcs.iloc[indx]\n",
    "\n",
    "                        info1 = Table()\n",
    "                        info1['NIGHT'] = [night]\n",
    "                        info1['EXPID'] = [expid]\n",
    "                        info1['CAMERA'] = [cam]\n",
    "                        info1['SPECTROGRAPH'] = [spec] # should get from the header...\n",
    "                        info1['MJD-OBS'] = [mjdobs] # mid-exposure?\n",
    "                        info1['EXPTIME'] = [sky.header['EXPTIME']]\n",
    "                        info1['DATE-OBS'] = [sky.header['DATE-OBS']] # mid-exposure?\n",
    "                        info1['DATE-UT'] = tel.date_ut # start of exposure?\n",
    "                        info1['MJD'] = tel.mjd\n",
    "                        info1['SKYRA'] = tel.sky_ra * u.degree\n",
    "                        info1['SKYDEC'] = tel.sky_dec * u.degree\n",
    "                        #info1['TARGRA'] = tel.target_ra\n",
    "                        #info1['TARGDEC'] = tel.target_dec\n",
    "                        info1['AIRMASS'] = tel.airmass.astype('f4')\n",
    "                        info1['TEL_MOONRA'] = tel.moon_ra * u.degree\n",
    "                        info1['TEL_MOONDEC'] = tel.moon_dec * u.degree\n",
    "                        info.append(info1)\n",
    "                        #pdb.set_trace()\n",
    "    info = vstack(info)\n",
    "    time = astropy.time.Time(info['MJD-OBS'], format='mjd')\n",
    "    info['MOONPHASE'] = np.array([moon_illumination(astropy.time.Time(tt.to_datetime(), scale='utc'), loc) \n",
    "                                  for tt in time]).astype('f4')\n",
    "    \n",
    "    moonpos = astropy.coordinates.get_moon(time, loc)\n",
    "    info['MOONRA'], info['MOONDEC'] = moonpos.ra, moonpos.dec\n",
    "    \n",
    "    # compute the moon separation in degrees\n",
    "    csky = SkyCoord(ra=info['SKYRA'], dec=info['SKYDEC'], frame='icrs')\n",
    "    cmoon = SkyCoord(ra=info['MOONRA'], dec=info['MOONDEC'], frame='icrs')\n",
    "    info['MOONSEP'] = np.array(csky.separation(cmoon).value).astype('f4') # [degree]\n",
    "    \n",
    "    # get the zenith angle of the moon\n",
    "    moon_altaz = moonpos.transform_to(astropy.coordinates.AltAz(obstime=time, location=loc))\n",
    "    moon_az = moon_altaz.az.value * u.degree\n",
    "    info['MOONAZ'] = moon_altaz.az\n",
    "    info['MOONALT'] = moon_altaz.alt\n",
    "    info['MOONZD'] = 90.0 * u.degree - moon_altaz.alt\n",
    "\n",
    "    return info"
   ]
  },
  {
   "cell_type": "code",
   "execution_count": 17,
   "metadata": {},
   "outputs": [
    {
     "name": "stdout",
     "output_type": "stream",
     "text": [
      "CPU times: user 8.02 s, sys: 223 ms, total: 8.24 s\n",
      "Wall time: 8.74 s\n"
     ]
    }
   ],
   "source": [
    "%time info = gather_skyspec_info()"
   ]
  },
  {
   "cell_type": "code",
   "execution_count": 18,
   "metadata": {},
   "outputs": [
    {
     "data": {
      "text/html": [
       "&lt;Table length=24&gt;\n",
       "<table id=\"table46913491127600\" class=\"table-striped table-bordered table-condensed\">\n",
       "<thead><tr><th>NIGHT</th><th>EXPID</th><th>CAMERA</th><th>SPECTROGRAPH</th><th>MJD-OBS</th><th>EXPTIME</th><th>DATE-OBS</th><th>DATE-UT</th><th>MJD</th><th>SKYRA</th><th>SKYDEC</th><th>AIRMASS</th><th>TEL_MOONRA</th><th>TEL_MOONDEC</th><th>MOONPHASE</th><th>MOONRA</th><th>MOONDEC</th><th>MOONSEP</th><th>MOONAZ</th><th>MOONALT</th><th>MOONZD</th></tr></thead>\n",
       "<thead><tr><th></th><th></th><th></th><th></th><th></th><th></th><th></th><th></th><th></th><th>deg</th><th>deg</th><th></th><th>deg</th><th>deg</th><th></th><th>deg</th><th>deg</th><th></th><th>deg</th><th>deg</th><th>deg</th></tr></thead>\n",
       "<thead><tr><th>str8</th><th>str8</th><th>str1</th><th>str1</th><th>float64</th><th>float64</th><th>str26</th><th>str23</th><th>float64</th><th>float64</th><th>float64</th><th>float32</th><th>float64</th><th>float64</th><th>float32</th><th>float64</th><th>float64</th><th>float32</th><th>float64</th><th>float64</th><th>float64</th></tr></thead>\n",
       "<tr><td>20191112</td><td>00027339</td><td>r</td><td>3</td><td>58800.21473507</td><td>300.0</td><td>2019-11-13T05:09:13.110272</td><td>2019-11-13 05:08:37.006</td><td>58800.214747</td><td>49.75</td><td>25.5</td><td>1.141077</td><td>56.333564</td><td>16.377605</td><td>0.99409693</td><td>56.85856043923165</td><td>16.07724842599831</td><td>11.524085</td><td>104.45561792790541</td><td>50.97611775546215</td><td>39.02388224453785</td></tr>\n",
       "<tr><td>20191112</td><td>00027345</td><td>r</td><td>3</td><td>58800.22016993</td><td>300.0</td><td>2019-11-13T05:17:02.681966</td><td>2019-11-13 05:16:25.006</td><td>58800.220164</td><td>49.75</td><td>25.5</td><td>1.123762</td><td>56.395408</td><td>16.39529</td><td>0.994051</td><td>56.90616119803401</td><td>16.101810201236407</td><td>11.529399</td><td>105.97634363439235</td><td>52.55602097708601</td><td>37.44397902291399</td></tr>\n",
       "<tr><td>20191112</td><td>00027351</td><td>r</td><td>3</td><td>58800.22495802</td><td>300.0</td><td>2019-11-13T05:23:56.372934</td><td>2019-11-13 05:23:20.506</td><td>58800.224973</td><td>37.50248</td><td>25.498801</td><td>1.038195</td><td>56.457268</td><td>16.412958</td><td>0.99401087</td><td>56.947638024406714</td><td>16.123280239017017</td><td>20.416197</td><td>107.38928278199857</td><td>53.93834450474021</td><td>36.06165549525979</td></tr>\n",
       "<tr><td>20191112</td><td>00027357</td><td>r</td><td>3</td><td>58800.22926841</td><td>300.0</td><td>2019-11-13T05:30:08.790208</td><td>2019-11-13 05:29:31.506</td><td>58800.229267</td><td>37.502271</td><td>25.498841</td><td>1.032291</td><td>56.510304</td><td>16.428089</td><td>0.9939749</td><td>56.984623185329184</td><td>16.1424694301304</td><td>20.437265</td><td>108.7269159589087</td><td>55.173924975739574</td><td>34.826075024260426</td></tr>\n",
       "<tr><td>20191112</td><td>00027363</td><td>r</td><td>3</td><td>58800.23412718</td><td>300.0</td><td>2019-11-13T05:37:08.588146</td><td>2019-11-13 05:36:31.006</td><td>58800.234122</td><td>26.250271</td><td>25.49907</td><td>1.006716</td><td>56.572195</td><td>16.445726</td><td>0.99393463</td><td>57.02592810972053</td><td>16.163938443432762</td><td>30.154314</td><td>110.31802347439051</td><td>56.555207062621854</td><td>33.444792937378146</td></tr>\n",
       "<tr><td>20191112</td><td>00027370</td><td>r</td><td>3</td><td>58800.23903292</td><td>300.0</td><td>2019-11-13T05:44:12.444153</td><td>2019-11-13 05:43:34.506</td><td>58800.239024</td><td>20.499259</td><td>25.499061</td><td>1.010434</td><td>56.642946</td><td>16.465863</td><td>0.99389416</td><td>57.0672355687316</td><td>16.185437389502262</td><td>35.295326</td><td>112.02478712067774</td><td>57.9356660553412</td><td>32.0643339446588</td></tr>\n",
       "<tr><td>20191112</td><td>00027375</td><td>r</td><td>3</td><td>58800.24322416</td><td>300.0</td><td>2019-11-13T05:50:14.567826</td><td>2019-11-13 05:49:37.006</td><td>58800.243225</td><td>17.470357</td><td>25.579551</td><td>1.019079</td><td>56.696024</td><td>16.480951</td><td>0.99385977</td><td>57.10222535023157</td><td>16.203660698774726</td><td>38.041718</td><td>113.57234209071063</td><td>59.102135371688384</td><td>30.897864628311616</td></tr>\n",
       "<tr><td>20191112</td><td>00027381</td><td>r</td><td>3</td><td>58800.24751194</td><td>300.0</td><td>2019-11-13T05:56:25.031235</td><td>2019-11-13 05:55:49.006</td><td>58800.247525</td><td>14.719447</td><td>25.578973</td><td>1.032191</td><td>56.749114</td><td>16.496027</td><td>0.9938247</td><td>57.13774706826327</td><td>16.222163376085323</td><td>40.53667</td><td>115.25065093153681</td><td>60.281405071518016</td><td>29.718594928481984</td></tr>\n",
       "<tr><td>20191112</td><td>00027387</td><td>r</td><td>3</td><td>58800.25223356</td><td>300.0</td><td>2019-11-13T06:03:12.979464</td><td>2019-11-13 06:02:36.006</td><td>58800.252236</td><td>17.485265</td><td>25.576783</td><td>1.029267</td><td>56.811067</td><td>16.5136</td><td>0.9937863</td><td>57.176558051286825</td><td>16.242370923632436</td><td>38.08085</td><td>117.22293357975907</td><td>61.561218100899374</td><td>28.438781899100626</td></tr>\n",
       "<tr><td>...</td><td>...</td><td>...</td><td>...</td><td>...</td><td>...</td><td>...</td><td>...</td><td>...</td><td>...</td><td>...</td><td>...</td><td>...</td><td>...</td><td>...</td><td>...</td><td>...</td><td>...</td><td>...</td><td>...</td><td>...</td></tr>\n",
       "<tr><td>20191112</td><td>00027410</td><td>r</td><td>3</td><td>58800.31094737</td><td>600.0</td><td>2019-11-13T07:27:45.852978</td><td>2019-11-13 06:59:57.006</td><td>58800.292062</td><td>10.694129</td><td>40.99312</td><td>1.145053</td><td>57.316149</td><td>16.656069</td><td>0.9933135</td><td>57.63999645306443</td><td>16.4778908001492</td><td>47.141903</td><td>160.9537944525153</td><td>73.79898725997033</td><td>16.201012740029668</td></tr>\n",
       "<tr><td>20191112</td><td>00027412</td><td>r</td><td>3</td><td>58800.32521698</td><td>1200.0</td><td>2019-11-13T07:48:18.746699</td><td>2019-11-13 06:59:57.006</td><td>58800.292062</td><td>10.694129</td><td>40.99312</td><td>1.145053</td><td>57.316149</td><td>16.656069</td><td>0.99319714</td><td>57.74979658312474</td><td>16.530451221314227</td><td>47.186554</td><td>178.52272217145327</td><td>74.61986896283753</td><td>15.38013103716247</td></tr>\n",
       "<tr><td>20191112</td><td>00027413</td><td>r</td><td>3</td><td>58800.33983091</td><td>1200.0</td><td>2019-11-13T08:09:21.390417</td><td>2019-11-13 06:59:57.006</td><td>58800.292062</td><td>10.694129</td><td>40.99312</td><td>1.145053</td><td>57.316149</td><td>16.656069</td><td>0.99307585</td><td>57.86229452369299</td><td>16.582307035711572</td><td>47.23373</td><td>196.8289291089601</td><td>74.08099906080191</td><td>15.919000939198085</td></tr>\n",
       "<tr><td>20191112</td><td>00027415</td><td>r</td><td>3</td><td>58800.35444774</td><td>1200.0</td><td>2019-11-13T08:30:24.284335</td><td>2019-11-13 06:59:57.006</td><td>58800.292062</td><td>10.694129</td><td>40.99312</td><td>1.145053</td><td>57.316149</td><td>16.656069</td><td>0.9929517</td><td>57.97547328688701</td><td>16.632165897754255</td><td>47.28282</td><td>212.81222762752805</td><td>72.27577286231255</td><td>17.72422713768745</td></tr>\n",
       "<tr><td>20191112</td><td>00027426</td><td>r</td><td>3</td><td>58800.37763423</td><td>600.0</td><td>2019-11-13T09:03:47.597586</td><td>2019-11-13 06:59:57.006</td><td>58800.292062</td><td>10.694129</td><td>40.99312</td><td>1.145053</td><td>57.316149</td><td>16.656069</td><td>0.9927467</td><td>58.15785089517855</td><td>16.70715956578685</td><td>47.36565</td><td>231.4519449295728</td><td>67.63827420414702</td><td>22.361725795852976</td></tr>\n",
       "<tr><td>20191112</td><td>00027429</td><td>r</td><td>3</td><td>58800.38645134</td><td>600.0</td><td>2019-11-13T09:16:29.395956</td><td>2019-11-13 06:59:57.006</td><td>58800.292062</td><td>10.694129</td><td>40.99312</td><td>1.145053</td><td>57.316149</td><td>16.656069</td><td>0.9926656</td><td>58.228538340195946</td><td>16.734376665666957</td><td>47.399036</td><td>236.72461199864324</td><td>65.5176399579924</td><td>24.4823600420076</td></tr>\n",
       "<tr><td>20191112</td><td>00027431</td><td>r</td><td>3</td><td>58800.39584002</td><td>600.0</td><td>2019-11-13T09:30:00.578023</td><td>2019-11-13 06:59:57.006</td><td>58800.292062</td><td>10.694129</td><td>40.99312</td><td>1.145053</td><td>57.316149</td><td>16.656069</td><td>0.9925769</td><td>58.30483638917114</td><td>16.762585914994553</td><td>47.435875</td><td>241.52824246954677</td><td>63.12271084954712</td><td>26.87728915045288</td></tr>\n",
       "<tr><td>20191112</td><td>00027433</td><td>r</td><td>3</td><td>58800.40983918</td><td>600.0</td><td>2019-11-13T09:50:10.105484</td><td>2019-11-13 06:59:57.006</td><td>58800.292062</td><td>10.694129</td><td>40.99312</td><td>1.145053</td><td>57.316149</td><td>16.656069</td><td>0.9924399</td><td>58.420887731512856</td><td>16.80320053449245</td><td>47.493484</td><td>247.49664261305398</td><td>59.36428988998496</td><td>30.63571011001504</td></tr>\n",
       "<tr><td>20191112</td><td>00027435</td><td>r</td><td>3</td><td>58800.41887397</td><td>600.0</td><td>2019-11-13T10:03:10.710833</td><td>2019-11-13 06:59:57.006</td><td>58800.292062</td><td>10.694129</td><td>40.99312</td><td>1.145053</td><td>57.316149</td><td>16.656069</td><td>0.99234813</td><td>58.49743366138407</td><td>16.828516802688956</td><td>47.532494</td><td>250.76946372115108</td><td>56.85346589797856</td><td>33.14653410202144</td></tr>\n",
       "<tr><td>20191112</td><td>00027437</td><td>r</td><td>3</td><td>58800.42944145</td><td>600.0</td><td>2019-11-13T10:18:23.740893</td><td>2019-11-13 06:59:57.006</td><td>58800.292062</td><td>10.694129</td><td>40.99312</td><td>1.145053</td><td>57.316149</td><td>16.656069</td><td>0.9922371</td><td>58.588800059692836</td><td>16.8572654204051</td><td>47.580067</td><td>254.16107038095515</td><td>53.85660596784085</td><td>36.14339403215915</td></tr>\n",
       "</table>"
      ],
      "text/plain": [
       "<Table length=24>\n",
       " NIGHT    EXPID   CAMERA ...      MOONALT             MOONZD      \n",
       "                         ...        deg                deg        \n",
       "  str8     str8    str1  ...      float64            float64      \n",
       "-------- -------- ------ ... ------------------ ------------------\n",
       "20191112 00027339      r ...  50.97611775546215  39.02388224453785\n",
       "20191112 00027345      r ...  52.55602097708601  37.44397902291399\n",
       "20191112 00027351      r ...  53.93834450474021  36.06165549525979\n",
       "20191112 00027357      r ... 55.173924975739574 34.826075024260426\n",
       "20191112 00027363      r ... 56.555207062621854 33.444792937378146\n",
       "20191112 00027370      r ...   57.9356660553412   32.0643339446588\n",
       "20191112 00027375      r ... 59.102135371688384 30.897864628311616\n",
       "20191112 00027381      r ... 60.281405071518016 29.718594928481984\n",
       "20191112 00027387      r ... 61.561218100899374 28.438781899100626\n",
       "     ...      ...    ... ...                ...                ...\n",
       "20191112 00027410      r ...  73.79898725997033 16.201012740029668\n",
       "20191112 00027412      r ...  74.61986896283753  15.38013103716247\n",
       "20191112 00027413      r ...  74.08099906080191 15.919000939198085\n",
       "20191112 00027415      r ...  72.27577286231255  17.72422713768745\n",
       "20191112 00027426      r ...  67.63827420414702 22.361725795852976\n",
       "20191112 00027429      r ...   65.5176399579924   24.4823600420076\n",
       "20191112 00027431      r ...  63.12271084954712  26.87728915045288\n",
       "20191112 00027433      r ...  59.36428988998496  30.63571011001504\n",
       "20191112 00027435      r ...  56.85346589797856  33.14653410202144\n",
       "20191112 00027437      r ...  53.85660596784085  36.14339403215915"
      ]
     },
     "execution_count": 18,
     "metadata": {},
     "output_type": "execute_result"
    }
   ],
   "source": [
    "info"
   ]
  },
  {
   "cell_type": "code",
   "execution_count": null,
   "metadata": {},
   "outputs": [],
   "source": [
    "stop"
   ]
  },
  {
   "cell_type": "markdown",
   "metadata": {},
   "source": [
    "#### Previous code below here"
   ]
  },
  {
   "cell_type": "code",
   "execution_count": null,
   "metadata": {},
   "outputs": [],
   "source": [
    "gfadir = '/project/projectdirs/desi/users/ameisner/GFA/reduced/v0001'"
   ]
  },
  {
   "cell_type": "markdown",
   "metadata": {},
   "source": [
    "#### Load the GFA filter curve."
   ]
  },
  {
   "cell_type": "code",
   "execution_count": null,
   "metadata": {},
   "outputs": [],
   "source": [
    "def load_gfa_filter():\n",
    "    if False:\n",
    "        rfilt = speclite.filters.load_filter('decam2014-r')\n",
    "    else:\n",
    "        if False:\n",
    "            filtfile = '/global/homes/a/ameisner/ci_throughput/etc/gfa_filter_transmission_DESI-1297.dat'\n",
    "            filtwave, filtresp, _, _ = np.loadtxt(filtfile, unpack=True)\n",
    "        else:\n",
    "            filt = Table.read('/global/homes/a/ameisner/ci_throughput/etc/gfa_throughput-airmass_1.00.fits')\n",
    "            filtwave, filtresp = filt['LAMBDA_NM'], filt['THROUGHPUT']\n",
    "            \n",
    "        filtresp[filtresp < 0] = 0\n",
    "        filtresp[0] = 0\n",
    "        filtresp[-1] = 0\n",
    "        srt = np.argsort(filtwave)\n",
    "        filtwave, filtresp = filtwave[srt] * 10, filtresp[srt]\n",
    "        rfilt = speclite.filters.FilterResponse(wavelength=filtwave * u.Angstrom,\n",
    "                                                response=filtresp,\n",
    "                                                meta=dict(group_name='gfa', band_name='r'))\n",
    "        \n",
    "        return rfilt"
   ]
  },
  {
   "cell_type": "code",
   "execution_count": null,
   "metadata": {},
   "outputs": [],
   "source": [
    "rfilt = load_gfa_filter()\n",
    "plt.plot(rfilt.wavelength, rfilt.response)"
   ]
  },
  {
   "cell_type": "markdown",
   "metadata": {},
   "source": [
    "#### Specify the night and range of GFA and spectrograph exposure IDs."
   ]
  },
  {
   "cell_type": "code",
   "execution_count": null,
   "metadata": {},
   "outputs": [],
   "source": [
    "night = 20191112\n",
    "expid_start, expid_end = 27337, 27396\n",
    "expids = np.arange(expid_end - expid_start + 1) + expid_start"
   ]
  },
  {
   "cell_type": "code",
   "execution_count": null,
   "metadata": {},
   "outputs": [],
   "source": [
    "for col in ('airmass', 'skyra', 'skydec', 'moonangl', 'moonra', 'moondec'):\n",
    "    print(col, ExpInfo(27339, col))"
   ]
  },
  {
   "cell_type": "markdown",
   "metadata": {},
   "source": [
    "#### Read A. Meisner's reductions to get the sky background in the GFAs vs moon separation."
   ]
  },
  {
   "cell_type": "code",
   "execution_count": null,
   "metadata": {},
   "outputs": [],
   "source": [
    "def read_gfa(night, expid, raw=False):\n",
    "    sexpid = '{:08d}'.format(expid)\n",
    "    rawfname = topdir+'/data/{0}/{1}/gfa-{1}.fits.fz'.format(night, sexpid)\n",
    "    fname = gfadir+'/{0}/{1}/gfa-{1}_ccds.fits'.format(night, sexpid)    \n",
    "    if os.path.isfile(fname):\n",
    "        # get the target-moon separation\n",
    "        hdr = fitsio.read_header(rawfname, ext=1)\n",
    "        #print(hdr)\n",
    "        \n",
    "        ra, dec, moonra, moondec = hdr['SKYRA'], hdr['SKYDEC'], hdr['MOONRA'], hdr['MOONDEC']\n",
    "        csky = SkyCoord(ra=ra*u.degree, dec=dec*u.degree, frame='icrs')\n",
    "        cmoon = SkyCoord(ra=moonra*u.degree, dec=moondec*u.degree, frame='icrs')\n",
    "        moonsep = np.array(csky.separation(cmoon).value).astype('f4') # [degree]\n",
    "\n",
    "        #print('Reading {}'.format(fname))\n",
    "        data = Table.read(fname)\n",
    "        #print(data.colnames)\n",
    "        \n",
    "        # pack into a table\n",
    "        out = Table()\n",
    "        out['sky_mag_ab'] = [np.mean(data['sky_mag_ab'])]\n",
    "        out['sky_mag_ab_err'] = [np.std(data['sky_mag_ab']) / np.sqrt(len(data))]\n",
    "        out['moonsep'] = [moonsep]\n",
    "        #out['airmass'] = [hdr['AIRMASS']]\n",
    "        \n",
    "        out = out[np.argsort(out['moonsep'])[::-1]]\n",
    "        \n",
    "        return out\n",
    "    else:\n",
    "        return None"
   ]
  },
  {
   "cell_type": "code",
   "execution_count": null,
   "metadata": {},
   "outputs": [],
   "source": [
    "#data = read_gfa(night, 27390)\n",
    "#data"
   ]
  },
  {
   "cell_type": "code",
   "execution_count": null,
   "metadata": {},
   "outputs": [],
   "source": [
    "def gfa_sky(night):\n",
    "    out = []\n",
    "    for expid in expids:\n",
    "        dd = read_gfa(night, expid)\n",
    "        if dd is not None:\n",
    "            out.append(dd)\n",
    "    return vstack(out)"
   ]
  },
  {
   "cell_type": "code",
   "execution_count": null,
   "metadata": {},
   "outputs": [],
   "source": [
    "#Table(fitsio.read(os.getenv('DESI_ROOT')+'/users/ameisner/GFA/files/skymags-prelim.fits')).colnames\n",
    "Table(fitsio.read(os.getenv('DESI_ROOT')+'/users/ameisner/GFA/files/skymags-prelim.with_airmass.fits')).colnames"
   ]
  },
  {
   "cell_type": "markdown",
   "metadata": {},
   "source": [
    "Read Aaron's updated GFA analysis outputs."
   ]
  },
  {
   "cell_type": "code",
   "execution_count": null,
   "metadata": {},
   "outputs": [],
   "source": [
    "def gfa_sky_updated():\n",
    "    #gfafile = os.getenv('DESI_ROOT')+'/users/ameisner/GFA/files/skymags-prelim.fits'\n",
    "    gfafile = os.getenv('DESI_ROOT')+'/users/ameisner/GFA/files/skymags-prelim.with_airmass.fits'\n",
    "\n",
    "    cat = Table(fitsio.read(gfafile, lower=True))\n",
    "    cat = cat[(cat['expid'] >= expid_start) * (cat['expid'] <= expid_end)]\n",
    "\n",
    "    ra, dec, moonra, moondec = cat['skyra'], cat['skydec'], cat['ra_moon_deg'], cat['dec_moon_deg']\n",
    "    #print(moonra, moondec)\n",
    "    \n",
    "    csky = SkyCoord(ra=ra*u.degree, dec=dec*u.degree, frame='icrs')\n",
    "    cmoon = SkyCoord(ra=moonra*u.degree, dec=moondec*u.degree, frame='icrs')\n",
    "    moonsep = np.array(csky.separation(cmoon).value) # [degree]\n",
    "    \n",
    "    out = Table()\n",
    "    out['camera'] = cat['extname']\n",
    "    out['expid'] = cat['expid']\n",
    "    out['airmass'] = cat['airmass']\n",
    "    out['ra'] = cat['skyra']\n",
    "    out['dec'] = cat['skydec']\n",
    "    out['moon_phase'] = cat['moon_phase']\n",
    "    out['sky_mag_ab'] = cat['skymag_median_top_camera'].astype('f4')\n",
    "    #out['sky_mag_ab_err'] = [np.std(data['sky_mag_ab']) / np.sqrt(len(data))]\n",
    "    out['moonsep'] = moonsep.astype('f4')\n",
    "    \n",
    "    out = out[np.argsort(out['moonsep'])[::-1]]\n",
    "    \n",
    "    return out    "
   ]
  },
  {
   "cell_type": "code",
   "execution_count": null,
   "metadata": {},
   "outputs": [],
   "source": [
    "if False:\n",
    "    gfa = gfa_sky(night)\n",
    "else:\n",
    "    gfa = gfa_sky_updated()\n",
    "gfa"
   ]
  },
  {
   "cell_type": "code",
   "execution_count": null,
   "metadata": {},
   "outputs": [],
   "source": [
    "fig, ax = plt.subplots(figsize=(8, 6))\n",
    "for cam, mark in zip(set(gfa['camera']), ('s', 'o')):\n",
    "    ww = gfa['camera'] == cam\n",
    "    ax.scatter(gfa['moonsep'][ww], gfa['sky_mag_ab'][ww], \n",
    "               label=cam, marker=mark, s=80, alpha=0.7)\n",
    "    #ax.invert_yaxis()\n",
    "    #ax.set_ylim(17.5, 14.5)\n",
    "    ax.set_xlabel('Target-Moon Separation (degree)')\n",
    "    ax.set_ylabel('Sky Brightness (AB mag)')\n",
    "ax.legend()"
   ]
  },
  {
   "cell_type": "markdown",
   "metadata": {},
   "source": [
    "#### Read the spectroscopic reductions to get the sky spectra vs moon separation."
   ]
  },
  {
   "cell_type": "code",
   "execution_count": null,
   "metadata": {},
   "outputs": [],
   "source": [
    "skymodel = specsim.simulator.Simulator('desi').atmosphere\n",
    "skymodel.airmass = 1.1\n",
    "skymodel.moon.moon_phase = 0.05\n",
    "skymodel.moon.moon_zenith = 40 * u.deg\n",
    "for moonsep in (45, 10):\n",
    "    skymodel.moon.separation_angle = moonsep * u.deg\n",
    "    skymodelflux = (skymodel.surface_brightness * np.pi * (0.75 * u.arcsec) ** 2).to(\n",
    "        u.erg / (u.Angstrom * u.cm ** 2 * u.s))\n",
    "    plt.plot(skymodel._wavelength, skymodelflux.value)"
   ]
  },
  {
   "cell_type": "code",
   "execution_count": null,
   "metadata": {},
   "outputs": [],
   "source": [
    "def read_spec(night, expid):\n",
    "    sexpid = '{:08d}'.format(expid)\n",
    "    datadir = topdir+'/redux/daily/exposures/{}/{}/'.format(night, sexpid)\n",
    "    if os.path.isdir(datadir):\n",
    "        #fr = desispec.io.read_frame('{}/frame-r3-{}.fits'.format(datadir, sexpid))\n",
    "        sp = desispec.io.read_frame('{}/sframe-r3-{}.fits'.format(datadir, sexpid))\n",
    "        sky = desispec.io.read_sky('{}/sky-r3-{}.fits'.format(datadir, sexpid))\n",
    "        return sp, sky\n",
    "        #return fr, sp, sky\n",
    "    else:\n",
    "        return None, None    "
   ]
  },
  {
   "cell_type": "code",
   "execution_count": null,
   "metadata": {},
   "outputs": [],
   "source": [
    "#sp, sky = read_spec(night, 27339)"
   ]
  },
  {
   "cell_type": "code",
   "execution_count": null,
   "metadata": {},
   "outputs": [],
   "source": [
    "def spec_sky():\n",
    "    import astropy.time\n",
    "    import astropy.coordinates\n",
    "  \n",
    "    # hack!\n",
    "    from astropy.utils.iers import conf\n",
    "    from astropy.utils import iers\n",
    "    conf.auto_max_age = None  \n",
    "    iers.Conf.iers_auto_url.set('ftp://cddis.gsfc.nasa.gov/pub/products/iers/finals2000A.all')    \n",
    "    \n",
    "    moonphase = 0.99 # from elog\n",
    "    infastropy.coordinates.EarthLocation.of_site('Kitt Peak')\n",
    "    \n",
    "    # skymodel\n",
    "    skymodel = specsim.simulator.Simulator('desi').atmosphere\n",
    "\n",
    "    _rfilt = speclite.filters.FilterSequence([rfilt])\n",
    "    rand = np.random.RandomState(seed=1)\n",
    "    allmoonsep, meansky, stdsky, skymodelmag = [], [], [], []\n",
    "    specsky, specwave = [], []\n",
    "    for expid in expids:\n",
    "        sp, sky = read_spec(night, expid)\n",
    "        if sky is not None:\n",
    "            # blarg! there's no metadata in the headers (or in the database), so\n",
    "            # choose the RA, Dec, and airmass from the nearest GFA exposure.\n",
    "            this = np.argmin(np.abs(gfa['expid'] - expid))\n",
    "            ra, dec = gfa['ra'][this], gfa['dec'][this]\n",
    "            moonphase, airmass = gfa['moon_phase'][this], gfa['airmass'][this], \n",
    "            \n",
    "            # get the object-moon separation!!\n",
    "            #moonsep.append(sky.header['PROGRAM'][:3])\n",
    "            hdr = sky.header\n",
    "            date, obstime = hdr['DATE-OBS'], hdr['TIME-OBS']\n",
    "            mjd, exptime = hdr['MJD-OBS'], hdr['EXPTIME']\n",
    "            \n",
    "            time = astropy.time.Time(mjd, format='mjd')\n",
    "            #time = astropy.time.Time(date, format='isot', scale='utc')\n",
    "            moonpos = astropy.coordinates.get_moon(time, loc)\n",
    "            moonra, moondec = moonpos.ra, moonpos.dec\n",
    "            \n",
    "            csky = SkyCoord(ra=ra*u.degree, dec=dec*u.degree, frame='icrs')\n",
    "            cmoon = SkyCoord(ra=moonra, dec=moondec, frame='icrs')\n",
    "            moonsep = csky.separation(cmoon)\n",
    "            allmoonsep.append(moonsep.value)\n",
    "            \n",
    "            moon_altaz = moonpos.transform_to(astropy.coordinates.AltAz(obstime=time, location=loc))\n",
    "            moon_az = moon_altaz.az.value * u.degree\n",
    "            moon_zenith = (90. - moon_altaz.alt.value) * u.degree\n",
    "            \n",
    "            # get the model sky brightness\n",
    "            skymodel.airmass = airmass\n",
    "            skymodel.moon.moon_phase = 1 - moonphase\n",
    "            skymodel.moon.moon_zenith = moon_zenith\n",
    "            skymodel.moon.separation_angle = moonsep\n",
    "            print(skymodel.airmass, skymodel.moon.moon_phase, skymodel.moon.moon_zenith.value, \n",
    "                  skymodel.moon.separation_angle.value)\n",
    "            \n",
    "            skymodelflux = (skymodel.surface_brightness * np.pi * (0.75 * u.arcsec) ** 2).to(\n",
    "                u.erg / (u.Angstrom * u.cm ** 2 * u.s))\n",
    "            pad_skymodelflux, pad_skymodelwave = _rfilt.pad_spectrum(\n",
    "                skymodelflux.value, skymodel._wavelength)\n",
    "            \n",
    "            #plt.plot(pad_skymodelwave, pad_skymodelflux)\n",
    "            #import pdb ; pdb.set_trace()\n",
    "            \n",
    "            skymodel_abmags = _rfilt.get_ab_magnitudes(pad_skymodelflux, pad_skymodelwave)[rfilt.name]\n",
    "            skymodelmag.append(skymodel_abmags)\n",
    "\n",
    "            # now the data: convolve the spectrum with the r-band filter curve\n",
    "            keep = sp.fibermap['OBJTYPE'] == 'SKY'\n",
    "            padflux, padwave = _rfilt.pad_spectrum(sky.flux[keep, :], sky.wave, method='edge')\n",
    "            abmags = _rfilt.get_ab_magnitudes(padflux, padwave)[rfilt.name]\n",
    "            \n",
    "            meansky.append(np.mean(abmags))\n",
    "            stdsky.append(np.std(abmags) / np.sqrt(len(abmags)))\n",
    "            \n",
    "            # get the median spectra for this moon separation\n",
    "            specwave.append(sky.wave)\n",
    "            specsky.append(np.percentile(sky.flux[keep, :], axis=0, q=50))\n",
    "            #q25sky = np.percentile(sky.flux[keep, :], axis=0, q=25)\n",
    "            #q75sky = np.percentile(sky.flux[keep, :], axis=0, q=75)\n",
    "            #these = rand.choice(keep, size=20, replace=False)\n",
    "            #[plt.plot(sky.wave, sky.flux[ii, :], alpha=1.0) for ii in these]\n",
    "            #plt.plot(sky.wave, medsky, alpha=0.7, color='k')            \n",
    "            \n",
    "    out = Table()\n",
    "    out['moonsep'] = np.hstack(allmoonsep).astype('f4')\n",
    "    out['meansky'] = np.hstack(meansky).astype('f4')\n",
    "    out['stdsky'] = np.hstack(stdsky).astype('f4')\n",
    "    out['specwave'] = specwave\n",
    "    out['specsky'] = specsky\n",
    "    out['skymodel'] = np.hstack(skymodelmag).astype('f4')\n",
    "    \n",
    "    out = out[np.argsort(out['moonsep'])[::-1]]\n",
    "    \n",
    "    return out"
   ]
  },
  {
   "cell_type": "code",
   "execution_count": null,
   "metadata": {},
   "outputs": [],
   "source": [
    "spec = spec_sky()\n",
    "spec"
   ]
  },
  {
   "cell_type": "code",
   "execution_count": null,
   "metadata": {},
   "outputs": [],
   "source": [
    "fig, ax = plt.subplots(figsize=(8, 6))\n",
    "\n",
    "ref = spec['moonsep'].argmax()\n",
    "#print(ref, spec['specsky'][ref])\n",
    "for ss in spec:\n",
    "    #print(ss['specwave'], ss['specsky'] / spec['specsky'][ref])\n",
    "    ax.plot(ss['specwave'], ss['specsky'],# / spec['specsky'][0],\n",
    "            label=r'{:.0f}$^{{\\circ}}$'.format(ss['moonsep']))\n",
    "ax.plot(rfilt.wavelength, rfilt.response / np.max(rfilt.response) * np.median(spec['specsky'][-1]),\n",
    "        color='k', ls='--', lw=2)\n",
    "\n",
    "ax.set_xlim(5500, 7800)\n",
    "#ax.set_yscale('log')\n",
    "ax.set_xlabel('Wavelength ($\\AA$)')\n",
    "ax.set_ylabel('Sky Spectra (counts / $\\AA$)')\n",
    "ax.legend(ncol=5, fontsize=12)\n",
    "#ax.set_title('Night {}'.format(night))"
   ]
  },
  {
   "cell_type": "code",
   "execution_count": null,
   "metadata": {},
   "outputs": [],
   "source": [
    "fig, ax = plt.subplots(figsize=(8, 6))\n",
    "\n",
    "for cam, mark in zip(set(gfa['camera']), ('s', 'o')):\n",
    "    ww = gfa['camera'] == cam\n",
    "    ax.plot(gfa['moonsep'][ww], gfa['sky_mag_ab'][ww], '{}-'.format(mark),\n",
    "            alpha=0.8, markersize=10, label='GFA-{}'.format(cam))\n",
    "\n",
    "ax.plot(spec['moonsep'], spec['skymodel'], 'o--', color='k', label='Model Sky')\n",
    "ax.invert_xaxis()\n",
    "#ax.set_ylim(17.5, 14.5)\n",
    "ax.set_xlabel('Target-Moon Separation (degree)')\n",
    "ax.set_ylabel('$r$-band Sky Brightness (AB mag)')\n",
    "ax.legend()"
   ]
  },
  {
   "cell_type": "code",
   "execution_count": null,
   "metadata": {},
   "outputs": [],
   "source": [
    "fig, ax = plt.subplots(figsize=(10, 8))\n",
    "\n",
    "specref = spec['meansky'][spec['moonsep'].argmax()]\n",
    "\n",
    "for cam, mark in zip(set(gfa['camera']), ('s', 'o')):\n",
    "    ww = gfa['camera'] == cam\n",
    "    gfaref = gfa['sky_mag_ab'][gfa['moonsep'].argmax()]\n",
    "    ax.plot(gfa['moonsep'][ww], gfa['sky_mag_ab'][ww] - gfaref, '{}-'.format(mark),\n",
    "            alpha=0.8, markersize=10, \n",
    "            label='GFA-{}'.format(cam))#, marker=mark, s=80)\n",
    "#ax.scatter(gfa['moonsep'], gfa['sky_mag_ab'] - gfaref, label='GFAs')\n",
    "\n",
    "ax.plot(spec['moonsep'], spec['meansky'] - specref, '^--', \n",
    "        alpha=0.8, markersize=13, label='Spectra')\n",
    "\n",
    "modelref = spec['skymodel'][spec['moonsep'].argmax()]\n",
    "ax.plot(spec['moonsep'], spec['skymodel'] - modelref, 'p-.', \n",
    "        alpha=0.8, markersize=13, label='Sky Model')\n",
    "\n",
    "ax.invert_xaxis()\n",
    "#ax.set_ylim(17.5, 14.5)\n",
    "ax.set_xlabel('Target-Moon Separation (degree)')\n",
    "ax.set_ylabel('Relative $r$-band Sky Brightness (AB mag)')\n",
    "ax.legend(loc='lower left')\n",
    "#ax.set_title('Night {}'.format(night))"
   ]
  },
  {
   "cell_type": "markdown",
   "metadata": {},
   "source": [
    "#### Playing around"
   ]
  },
  {
   "cell_type": "code",
   "execution_count": null,
   "metadata": {},
   "outputs": [],
   "source": [
    "import specsim.simulator\n",
    "desi = specsim.simulator.Simulator('desi', num_fibers=1)\n",
    "desi.instrument.fiberloss_method = 'table'\n",
    "desi.simulate()"
   ]
  },
  {
   "cell_type": "code",
   "execution_count": null,
   "metadata": {},
   "outputs": [],
   "source": [
    "plt.plot(desi.atmosphere._wavelength.value, desi.atmosphere.surface_brightness.value)\n",
    "plt.xlim(5500, 8500)"
   ]
  },
  {
   "cell_type": "code",
   "execution_count": null,
   "metadata": {},
   "outputs": [],
   "source": [
    "from astropy.coordinates import EarthLocation\n",
    "loc = EarthLocation.of_site('Kitt Peak')\n",
    "loc\n",
    "\n",
    "time = astropy.time.Time(t['DATE'], format='jd')\n",
    "\n",
    "moon_position = astropy.coordinates.get_moon(time, loc)\n",
    "moon_ra = moon_position.ra.value\n",
    "moon_dec = moon_position.dec.value\n",
    "moon_position_altaz = moon_position.transform_to(astropy.coordinates.AltAz(obstime=time, location=location))\n",
    "moon_alt = moon_position_altaz.alt.value\n",
    "moon_az = moon_position_altaz.az.value"
   ]
  },
  {
   "cell_type": "code",
   "execution_count": null,
   "metadata": {},
   "outputs": [],
   "source": []
  },
  {
   "cell_type": "code",
   "execution_count": null,
   "metadata": {},
   "outputs": [],
   "source": [
    "EarthLocation.from_geodetic(lat='-30d10m10.78s', lon='-70d48m23.49s', height=2241.4*u.m)"
   ]
  },
  {
   "cell_type": "code",
   "execution_count": null,
   "metadata": {},
   "outputs": [],
   "source": []
  }
 ],
 "metadata": {
  "kernelspec": {
   "display_name": "DESI master ioannis",
   "language": "python",
   "name": "desi-master-ioannis"
  },
  "language_info": {
   "codemirror_mode": {
    "name": "ipython",
    "version": 3
   },
   "file_extension": ".py",
   "mimetype": "text/x-python",
   "name": "python",
   "nbconvert_exporter": "python",
   "pygments_lexer": "ipython3",
   "version": "3.6.6"
  }
 },
 "nbformat": 4,
 "nbformat_minor": 4
}
